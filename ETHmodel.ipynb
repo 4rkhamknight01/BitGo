{
  "nbformat": 4,
  "nbformat_minor": 0,
  "metadata": {
    "colab": {
      "name": "ETHmodel.ipynb",
      "provenance": []
    },
    "kernelspec": {
      "name": "python3",
      "display_name": "Python 3"
    },
    "language_info": {
      "name": "python"
    }
  },
  "cells": [
    {
      "cell_type": "code",
      "metadata": {
        "id": "872pw5draUcL"
      },
      "source": [
        "import json\n",
        "import requests\n",
        "from keras.models import Sequential\n",
        "from keras.layers import Activation, Dense, Dropout, LSTM\n",
        "import matplotlib.pyplot as plt\n",
        "import numpy as np\n",
        "import pandas as pd\n",
        "import seaborn as sns\n",
        "from sklearn.metrics import mean_absolute_error\n",
        "%matplotlib inline"
      ],
      "execution_count": 1,
      "outputs": []
    },
    {
      "cell_type": "code",
      "metadata": {
        "id": "umGnrxaLathk"
      },
      "source": [
        "endpoint = 'https://min-api.cryptocompare.com/data/histoday'\n",
        "res = requests.get(endpoint + '?fsym=ETH&tsym=USD&limit=2000')\n",
        "df = pd.DataFrame(json.loads(res.content)['Data'])\n",
        "df = df.set_index('time')\n",
        "df.index = pd.to_datetime(df.index, unit='s')\n",
        "target_col='close'"
      ],
      "execution_count": 2,
      "outputs": []
    },
    {
      "cell_type": "code",
      "metadata": {
        "colab": {
          "base_uri": "https://localhost:8080/",
          "height": 447
        },
        "id": "WEsVGafzazEe",
        "outputId": "85fe613d-8e61-4b5f-b71a-e256365c89dc"
      },
      "source": [
        "df"
      ],
      "execution_count": 3,
      "outputs": [
        {
          "output_type": "execute_result",
          "data": {
            "text/html": [
              "<div>\n",
              "<style scoped>\n",
              "    .dataframe tbody tr th:only-of-type {\n",
              "        vertical-align: middle;\n",
              "    }\n",
              "\n",
              "    .dataframe tbody tr th {\n",
              "        vertical-align: top;\n",
              "    }\n",
              "\n",
              "    .dataframe thead th {\n",
              "        text-align: right;\n",
              "    }\n",
              "</style>\n",
              "<table border=\"1\" class=\"dataframe\">\n",
              "  <thead>\n",
              "    <tr style=\"text-align: right;\">\n",
              "      <th></th>\n",
              "      <th>high</th>\n",
              "      <th>low</th>\n",
              "      <th>open</th>\n",
              "      <th>volumefrom</th>\n",
              "      <th>volumeto</th>\n",
              "      <th>close</th>\n",
              "      <th>conversionType</th>\n",
              "      <th>conversionSymbol</th>\n",
              "    </tr>\n",
              "    <tr>\n",
              "      <th>time</th>\n",
              "      <th></th>\n",
              "      <th></th>\n",
              "      <th></th>\n",
              "      <th></th>\n",
              "      <th></th>\n",
              "      <th></th>\n",
              "      <th></th>\n",
              "      <th></th>\n",
              "    </tr>\n",
              "  </thead>\n",
              "  <tbody>\n",
              "    <tr>\n",
              "      <th>2016-05-02</th>\n",
              "      <td>10.46</td>\n",
              "      <td>8.635</td>\n",
              "      <td>8.819</td>\n",
              "      <td>3648152.10</td>\n",
              "      <td>3.702697e+07</td>\n",
              "      <td>10.150</td>\n",
              "      <td>multiply</td>\n",
              "      <td>BTC</td>\n",
              "    </tr>\n",
              "    <tr>\n",
              "      <th>2016-05-03</th>\n",
              "      <td>10.34</td>\n",
              "      <td>9.258</td>\n",
              "      <td>10.150</td>\n",
              "      <td>1952044.73</td>\n",
              "      <td>1.809752e+07</td>\n",
              "      <td>9.271</td>\n",
              "      <td>multiply</td>\n",
              "      <td>BTC</td>\n",
              "    </tr>\n",
              "    <tr>\n",
              "      <th>2016-05-04</th>\n",
              "      <td>10.02</td>\n",
              "      <td>9.103</td>\n",
              "      <td>9.271</td>\n",
              "      <td>1726008.21</td>\n",
              "      <td>1.616624e+07</td>\n",
              "      <td>9.366</td>\n",
              "      <td>multiply</td>\n",
              "      <td>BTC</td>\n",
              "    </tr>\n",
              "    <tr>\n",
              "      <th>2016-05-05</th>\n",
              "      <td>10.13</td>\n",
              "      <td>9.248</td>\n",
              "      <td>9.366</td>\n",
              "      <td>1646018.19</td>\n",
              "      <td>1.618917e+07</td>\n",
              "      <td>9.835</td>\n",
              "      <td>multiply</td>\n",
              "      <td>BTC</td>\n",
              "    </tr>\n",
              "    <tr>\n",
              "      <th>2016-05-06</th>\n",
              "      <td>10.26</td>\n",
              "      <td>8.952</td>\n",
              "      <td>9.835</td>\n",
              "      <td>2004919.41</td>\n",
              "      <td>1.851975e+07</td>\n",
              "      <td>9.237</td>\n",
              "      <td>multiply</td>\n",
              "      <td>BTC</td>\n",
              "    </tr>\n",
              "    <tr>\n",
              "      <th>...</th>\n",
              "      <td>...</td>\n",
              "      <td>...</td>\n",
              "      <td>...</td>\n",
              "      <td>...</td>\n",
              "      <td>...</td>\n",
              "      <td>...</td>\n",
              "      <td>...</td>\n",
              "      <td>...</td>\n",
              "    </tr>\n",
              "    <tr>\n",
              "      <th>2021-10-19</th>\n",
              "      <td>3888.54</td>\n",
              "      <td>3733.600</td>\n",
              "      <td>3746.140</td>\n",
              "      <td>291414.08</td>\n",
              "      <td>1.110236e+09</td>\n",
              "      <td>3877.450</td>\n",
              "      <td>direct</td>\n",
              "      <td></td>\n",
              "    </tr>\n",
              "    <tr>\n",
              "      <th>2021-10-20</th>\n",
              "      <td>4168.74</td>\n",
              "      <td>3829.950</td>\n",
              "      <td>3877.450</td>\n",
              "      <td>427521.45</td>\n",
              "      <td>1.719887e+09</td>\n",
              "      <td>4162.490</td>\n",
              "      <td>direct</td>\n",
              "      <td></td>\n",
              "    </tr>\n",
              "    <tr>\n",
              "      <th>2021-10-21</th>\n",
              "      <td>4373.21</td>\n",
              "      <td>4015.240</td>\n",
              "      <td>4162.490</td>\n",
              "      <td>585122.78</td>\n",
              "      <td>2.439960e+09</td>\n",
              "      <td>4062.760</td>\n",
              "      <td>direct</td>\n",
              "      <td></td>\n",
              "    </tr>\n",
              "    <tr>\n",
              "      <th>2021-10-22</th>\n",
              "      <td>4168.19</td>\n",
              "      <td>3892.380</td>\n",
              "      <td>4062.760</td>\n",
              "      <td>365507.01</td>\n",
              "      <td>1.474775e+09</td>\n",
              "      <td>3971.950</td>\n",
              "      <td>direct</td>\n",
              "      <td></td>\n",
              "    </tr>\n",
              "    <tr>\n",
              "      <th>2021-10-23</th>\n",
              "      <td>4054.33</td>\n",
              "      <td>3937.930</td>\n",
              "      <td>3971.950</td>\n",
              "      <td>93657.27</td>\n",
              "      <td>3.755954e+08</td>\n",
              "      <td>4022.880</td>\n",
              "      <td>direct</td>\n",
              "      <td></td>\n",
              "    </tr>\n",
              "  </tbody>\n",
              "</table>\n",
              "<p>2001 rows × 8 columns</p>\n",
              "</div>"
            ],
            "text/plain": [
              "               high       low  ...  conversionType  conversionSymbol\n",
              "time                           ...                                  \n",
              "2016-05-02    10.46     8.635  ...        multiply               BTC\n",
              "2016-05-03    10.34     9.258  ...        multiply               BTC\n",
              "2016-05-04    10.02     9.103  ...        multiply               BTC\n",
              "2016-05-05    10.13     9.248  ...        multiply               BTC\n",
              "2016-05-06    10.26     8.952  ...        multiply               BTC\n",
              "...             ...       ...  ...             ...               ...\n",
              "2021-10-19  3888.54  3733.600  ...          direct                  \n",
              "2021-10-20  4168.74  3829.950  ...          direct                  \n",
              "2021-10-21  4373.21  4015.240  ...          direct                  \n",
              "2021-10-22  4168.19  3892.380  ...          direct                  \n",
              "2021-10-23  4054.33  3937.930  ...          direct                  \n",
              "\n",
              "[2001 rows x 8 columns]"
            ]
          },
          "metadata": {},
          "execution_count": 3
        }
      ]
    },
    {
      "cell_type": "code",
      "metadata": {
        "colab": {
          "base_uri": "https://localhost:8080/",
          "height": 447
        },
        "id": "_PSQVj5ca0GV",
        "outputId": "a1c5db54-c85b-4a91-e350-a4f0dfb0bf55"
      },
      "source": [
        "df = df.drop(['conversionType','conversionSymbol'], axis=1)\n",
        "df"
      ],
      "execution_count": 4,
      "outputs": [
        {
          "output_type": "execute_result",
          "data": {
            "text/html": [
              "<div>\n",
              "<style scoped>\n",
              "    .dataframe tbody tr th:only-of-type {\n",
              "        vertical-align: middle;\n",
              "    }\n",
              "\n",
              "    .dataframe tbody tr th {\n",
              "        vertical-align: top;\n",
              "    }\n",
              "\n",
              "    .dataframe thead th {\n",
              "        text-align: right;\n",
              "    }\n",
              "</style>\n",
              "<table border=\"1\" class=\"dataframe\">\n",
              "  <thead>\n",
              "    <tr style=\"text-align: right;\">\n",
              "      <th></th>\n",
              "      <th>high</th>\n",
              "      <th>low</th>\n",
              "      <th>open</th>\n",
              "      <th>volumefrom</th>\n",
              "      <th>volumeto</th>\n",
              "      <th>close</th>\n",
              "    </tr>\n",
              "    <tr>\n",
              "      <th>time</th>\n",
              "      <th></th>\n",
              "      <th></th>\n",
              "      <th></th>\n",
              "      <th></th>\n",
              "      <th></th>\n",
              "      <th></th>\n",
              "    </tr>\n",
              "  </thead>\n",
              "  <tbody>\n",
              "    <tr>\n",
              "      <th>2016-05-02</th>\n",
              "      <td>10.46</td>\n",
              "      <td>8.635</td>\n",
              "      <td>8.819</td>\n",
              "      <td>3648152.10</td>\n",
              "      <td>3.702697e+07</td>\n",
              "      <td>10.150</td>\n",
              "    </tr>\n",
              "    <tr>\n",
              "      <th>2016-05-03</th>\n",
              "      <td>10.34</td>\n",
              "      <td>9.258</td>\n",
              "      <td>10.150</td>\n",
              "      <td>1952044.73</td>\n",
              "      <td>1.809752e+07</td>\n",
              "      <td>9.271</td>\n",
              "    </tr>\n",
              "    <tr>\n",
              "      <th>2016-05-04</th>\n",
              "      <td>10.02</td>\n",
              "      <td>9.103</td>\n",
              "      <td>9.271</td>\n",
              "      <td>1726008.21</td>\n",
              "      <td>1.616624e+07</td>\n",
              "      <td>9.366</td>\n",
              "    </tr>\n",
              "    <tr>\n",
              "      <th>2016-05-05</th>\n",
              "      <td>10.13</td>\n",
              "      <td>9.248</td>\n",
              "      <td>9.366</td>\n",
              "      <td>1646018.19</td>\n",
              "      <td>1.618917e+07</td>\n",
              "      <td>9.835</td>\n",
              "    </tr>\n",
              "    <tr>\n",
              "      <th>2016-05-06</th>\n",
              "      <td>10.26</td>\n",
              "      <td>8.952</td>\n",
              "      <td>9.835</td>\n",
              "      <td>2004919.41</td>\n",
              "      <td>1.851975e+07</td>\n",
              "      <td>9.237</td>\n",
              "    </tr>\n",
              "    <tr>\n",
              "      <th>...</th>\n",
              "      <td>...</td>\n",
              "      <td>...</td>\n",
              "      <td>...</td>\n",
              "      <td>...</td>\n",
              "      <td>...</td>\n",
              "      <td>...</td>\n",
              "    </tr>\n",
              "    <tr>\n",
              "      <th>2021-10-19</th>\n",
              "      <td>3888.54</td>\n",
              "      <td>3733.600</td>\n",
              "      <td>3746.140</td>\n",
              "      <td>291414.08</td>\n",
              "      <td>1.110236e+09</td>\n",
              "      <td>3877.450</td>\n",
              "    </tr>\n",
              "    <tr>\n",
              "      <th>2021-10-20</th>\n",
              "      <td>4168.74</td>\n",
              "      <td>3829.950</td>\n",
              "      <td>3877.450</td>\n",
              "      <td>427521.45</td>\n",
              "      <td>1.719887e+09</td>\n",
              "      <td>4162.490</td>\n",
              "    </tr>\n",
              "    <tr>\n",
              "      <th>2021-10-21</th>\n",
              "      <td>4373.21</td>\n",
              "      <td>4015.240</td>\n",
              "      <td>4162.490</td>\n",
              "      <td>585122.78</td>\n",
              "      <td>2.439960e+09</td>\n",
              "      <td>4062.760</td>\n",
              "    </tr>\n",
              "    <tr>\n",
              "      <th>2021-10-22</th>\n",
              "      <td>4168.19</td>\n",
              "      <td>3892.380</td>\n",
              "      <td>4062.760</td>\n",
              "      <td>365507.01</td>\n",
              "      <td>1.474775e+09</td>\n",
              "      <td>3971.950</td>\n",
              "    </tr>\n",
              "    <tr>\n",
              "      <th>2021-10-23</th>\n",
              "      <td>4054.33</td>\n",
              "      <td>3937.930</td>\n",
              "      <td>3971.950</td>\n",
              "      <td>93657.27</td>\n",
              "      <td>3.755954e+08</td>\n",
              "      <td>4022.880</td>\n",
              "    </tr>\n",
              "  </tbody>\n",
              "</table>\n",
              "<p>2001 rows × 6 columns</p>\n",
              "</div>"
            ],
            "text/plain": [
              "               high       low      open  volumefrom      volumeto     close\n",
              "time                                                                       \n",
              "2016-05-02    10.46     8.635     8.819  3648152.10  3.702697e+07    10.150\n",
              "2016-05-03    10.34     9.258    10.150  1952044.73  1.809752e+07     9.271\n",
              "2016-05-04    10.02     9.103     9.271  1726008.21  1.616624e+07     9.366\n",
              "2016-05-05    10.13     9.248     9.366  1646018.19  1.618917e+07     9.835\n",
              "2016-05-06    10.26     8.952     9.835  2004919.41  1.851975e+07     9.237\n",
              "...             ...       ...       ...         ...           ...       ...\n",
              "2021-10-19  3888.54  3733.600  3746.140   291414.08  1.110236e+09  3877.450\n",
              "2021-10-20  4168.74  3829.950  3877.450   427521.45  1.719887e+09  4162.490\n",
              "2021-10-21  4373.21  4015.240  4162.490   585122.78  2.439960e+09  4062.760\n",
              "2021-10-22  4168.19  3892.380  4062.760   365507.01  1.474775e+09  3971.950\n",
              "2021-10-23  4054.33  3937.930  3971.950    93657.27  3.755954e+08  4022.880\n",
              "\n",
              "[2001 rows x 6 columns]"
            ]
          },
          "metadata": {},
          "execution_count": 4
        }
      ]
    },
    {
      "cell_type": "code",
      "metadata": {
        "id": "wBNvh3q3a5Tx"
      },
      "source": [
        "def line_plot(line1, line2, label1=None, label2=None, title='', lw=2):\n",
        "    fig, ax = plt.subplots(1, figsize=(13, 7))\n",
        "    ax.plot(line1, label=label1, linewidth=lw)\n",
        "    ax.plot(line2, label=label2, linewidth=lw)\n",
        "    ax.set_ylabel('price [CAD]', fontsize=14)\n",
        "    ax.set_title(title, fontsize=16)\n",
        "    ax.legend(loc='best', fontsize=16);"
      ],
      "execution_count": 5,
      "outputs": []
    },
    {
      "cell_type": "code",
      "metadata": {
        "id": "XbLPLG7ka_MI"
      },
      "source": [
        "\n",
        "def train_test_split(df, test_size=0.4):\n",
        "    split_row = len(df) - int(test_size * len(df))\n",
        "    train_data = df.iloc[:split_row]\n",
        "    test_data = df.iloc[split_row:]\n",
        "    return train_data, test_data"
      ],
      "execution_count": 7,
      "outputs": []
    },
    {
      "cell_type": "code",
      "metadata": {
        "id": "CivmyD5ZbBhb"
      },
      "source": [
        "train, test = train_test_split(df,test_size=0.4)"
      ],
      "execution_count": 8,
      "outputs": []
    },
    {
      "cell_type": "code",
      "metadata": {
        "colab": {
          "base_uri": "https://localhost:8080/"
        },
        "id": "9hPv3h6WbJM7",
        "outputId": "4d34515d-d3e5-44d8-acbc-599a7b45367a"
      },
      "source": [
        "np.array(train)\n",
        "np.array(test)"
      ],
      "execution_count": 9,
      "outputs": [
        {
          "output_type": "execute_result",
          "data": {
            "text/plain": [
              "array([[1.91560000e+02, 1.82650000e+02, 1.88130000e+02, 2.61407868e+06,\n",
              "        4.84514498e+08, 1.85350000e+02],\n",
              "       [1.86530000e+02, 1.81830000e+02, 1.85350000e+02, 1.97856954e+06,\n",
              "        3.67239958e+08, 1.85610000e+02],\n",
              "       [1.96100000e+02, 1.86800000e+02, 1.85610000e+02, 1.99709219e+06,\n",
              "        3.88939845e+08, 1.94750000e+02],\n",
              "       ...,\n",
              "       [4.37321000e+03, 4.01524000e+03, 4.16249000e+03, 5.85122780e+05,\n",
              "        2.43995984e+09, 4.06276000e+03],\n",
              "       [4.16819000e+03, 3.89238000e+03, 4.06276000e+03, 3.65507010e+05,\n",
              "        1.47477458e+09, 3.97195000e+03],\n",
              "       [4.05433000e+03, 3.93793000e+03, 3.97195000e+03, 9.36572700e+04,\n",
              "        3.75595412e+08, 4.02288000e+03]])"
            ]
          },
          "metadata": {},
          "execution_count": 9
        }
      ]
    },
    {
      "cell_type": "code",
      "metadata": {
        "colab": {
          "base_uri": "https://localhost:8080/",
          "height": 428
        },
        "id": "lfxE-VOSbeOP",
        "outputId": "30f9c593-0cbe-4710-a407-a597482740eb"
      },
      "source": [
        "line_plot(train[target_col], test[target_col], 'Training', 'Test', title='')"
      ],
      "execution_count": 10,
      "outputs": [
        {
          "output_type": "display_data",
          "data": {
            "image/png": "[encoded data removed]",
            "text/plain": [
              "<Figure size 936x504 with 1 Axes>"
            ]
          },
          "metadata": {
            "needs_background": "light"
          }
        }
      ]
    },
    {
      "cell_type": "code",
      "metadata": {
        "colab": {
          "base_uri": "https://localhost:8080/"
        },
        "id": "MA_rthJkbhQh",
        "outputId": "2478a869-d5ce-4a4e-a634-65b79c186a2a"
      },
      "source": [
        "print(train)\n",
        "print(test)"
      ],
      "execution_count": 11,
      "outputs": [
        {
          "output_type": "stream",
          "name": "stdout",
          "text": [
            "              high      low     open  volumefrom      volumeto    close\n",
            "time                                                                   \n",
            "2016-05-02   10.46    8.635    8.819  3648152.10  3.702697e+07   10.150\n",
            "2016-05-03   10.34    9.258   10.150  1952044.73  1.809752e+07    9.271\n",
            "2016-05-04   10.02    9.103    9.271  1726008.21  1.616624e+07    9.366\n",
            "2016-05-05   10.13    9.248    9.366  1646018.19  1.618917e+07    9.835\n",
            "2016-05-06   10.26    8.952    9.835  2004919.41  1.851975e+07    9.237\n",
            "...            ...      ...      ...         ...           ...      ...\n",
            "2019-08-11  219.20  210.650  206.000  2107135.75  4.555594e+08  216.200\n",
            "2019-08-12  213.51  210.670  216.200  1612897.03  3.408863e+08  211.350\n",
            "2019-08-13  209.50  200.040  211.350  2018275.26  4.212996e+08  208.740\n",
            "2019-08-14  198.43  182.180  208.740  2828543.26  5.275031e+08  186.490\n",
            "2019-08-15  194.11  185.350  186.490  2833953.91  5.331526e+08  188.130\n",
            "\n",
            "[1201 rows x 6 columns]\n",
            "               high      low     open  volumefrom      volumeto    close\n",
            "time                                                                    \n",
            "2019-08-16   191.56   182.65   188.13  2614078.68  4.845145e+08   185.35\n",
            "2019-08-17   186.53   181.83   185.35  1978569.54  3.672400e+08   185.61\n",
            "2019-08-18   196.10   186.80   185.61  1997092.19  3.889398e+08   194.75\n",
            "2019-08-19   206.65   202.06   194.75  1972257.37  3.991605e+08   202.39\n",
            "2019-08-20   205.51   196.14   202.39  1927843.24  3.793644e+08   196.78\n",
            "...             ...      ...      ...         ...           ...      ...\n",
            "2021-10-19  3888.54  3733.60  3746.14   291414.08  1.110236e+09  3877.45\n",
            "2021-10-20  4168.74  3829.95  3877.45   427521.45  1.719887e+09  4162.49\n",
            "2021-10-21  4373.21  4015.24  4162.49   585122.78  2.439960e+09  4062.76\n",
            "2021-10-22  4168.19  3892.38  4062.76   365507.01  1.474775e+09  3971.95\n",
            "2021-10-23  4054.33  3937.93  3971.95    93657.27  3.755954e+08  4022.88\n",
            "\n",
            "[800 rows x 6 columns]\n"
          ]
        }
      ]
    },
    {
      "cell_type": "code",
      "metadata": {
        "id": "vNFGXCtnbpT0"
      },
      "source": [
        "def normalise_zero_base(df):\n",
        "    return df / df.iloc[0] - 1\n",
        "\n",
        "def normalise_min_max(df):\n",
        "    return (df - df.min()) / (data.max() - df.min())"
      ],
      "execution_count": 12,
      "outputs": []
    },
    {
      "cell_type": "code",
      "metadata": {
        "id": "mHuqfiF1bt4p"
      },
      "source": [
        "def extract_window_data(df, window_len=5, zero_base=True):\n",
        "    window_data = []\n",
        "    for idx in range(len(df) - window_len):\n",
        "        tmp = df[idx: (idx + window_len)].copy()\n",
        "        if zero_base:\n",
        "            tmp = normalise_zero_base(tmp)\n",
        "        window_data.append(tmp.values)\n",
        "    return np.array(window_data)"
      ],
      "execution_count": 13,
      "outputs": []
    },
    {
      "cell_type": "code",
      "metadata": {
        "id": "Ko3JTpqybvzz"
      },
      "source": [
        "def prepare_data(df, target_col, window_len=5, zero_base=True, test_size=0.4):\n",
        "    train_data, test_data = train_test_split(df, test_size=test_size)\n",
        "    X_train = extract_window_data(train_data, window_len, zero_base)\n",
        "    X_test = extract_window_data(test_data, window_len, zero_base)\n",
        "    y_train = train_data[target_col][window_len:].values\n",
        "    y_test = test_data[target_col][window_len:].values\n",
        "    if zero_base:\n",
        "        y_train = y_train / train_data[target_col][:-window_len].values - 1\n",
        "        y_test = y_test / test_data[target_col][:-window_len].values - 1\n",
        "\n",
        "    return train_data, test_data, X_train, X_test, y_train, y_test"
      ],
      "execution_count": 14,
      "outputs": []
    },
    {
      "cell_type": "code",
      "metadata": {
        "id": "K8F02PWOb3Xb"
      },
      "source": [
        "def build_lstm_model(input_data, output_size, neurons=100, activ_func='linear',\n",
        "                     dropout=0.2, loss='mse', optimizer='adam'):\n",
        "    model = Sequential()\n",
        "    model.add(LSTM(neurons, input_shape=(input_data.shape[1], input_data.shape[2])))\n",
        "    model.add(Dropout(dropout))\n",
        "    model.add(Dense(units=output_size))\n",
        "    model.add(Activation(activ_func))\n",
        "\n",
        "    model.compile(loss=loss, optimizer=optimizer)\n",
        "    return model"
      ],
      "execution_count": 41,
      "outputs": []
    },
    {
      "cell_type": "code",
      "metadata": {
        "id": "EDsHVoIeb6yn"
      },
      "source": [
        "np.random.seed(42)\n",
        "window_len = 5\n",
        "test_size = 0.4\n",
        "zero_base = True\n",
        "lstm_neurons = 100\n",
        "epochs = 40\n",
        "batch_size = 32\n",
        "loss = 'mse'\n",
        "dropout = 0.2\n",
        "optimizer = 'adam'"
      ],
      "execution_count": 42,
      "outputs": []
    },
    {
      "cell_type": "code",
      "metadata": {
        "id": "nj399B0jcBeI"
      },
      "source": [
        "train, test, X_train, X_test, y_train, y_test = prepare_data(df, target_col, window_len=window_len, zero_base=zero_base, test_size=test_size)"
      ],
      "execution_count": 43,
      "outputs": []
    },
    {
      "cell_type": "code",
      "metadata": {
        "id": "PuT2ibjFcDa0"
      },
      "source": [
        "#Early stopping using callbacks\n",
        "from keras.callbacks import EarlyStopping\n",
        "es = EarlyStopping(mode='min',verbose=1,patience=4)"
      ],
      "execution_count": 37,
      "outputs": []
    },
    {
      "cell_type": "code",
      "metadata": {
        "colab": {
          "base_uri": "https://localhost:8080/"
        },
        "id": "mjGMv4r8cG4V",
        "outputId": "9ca5cdbe-35a4-4e3d-a2ad-19f47e728588"
      },
      "source": [
        "model = build_lstm_model( X_train, output_size=1, neurons=lstm_neurons, dropout=dropout, loss=loss, optimizer=optimizer)\n",
        "history = model.fit( X_train, y_train, epochs=epochs, batch_size=batch_size, validation_split=0.3, validation_data=(X_test,y_test), verbose=1, shuffle=True, callbacks=[es])"
      ],
      "execution_count": 44,
      "outputs": [
        {
          "output_type": "stream",
          "name": "stdout",
          "text": [
            "Epoch 1/40\n",
            "27/27 [==============================] - 2s 21ms/step - loss: 0.0193 - val_loss: 0.0051\n",
            "Epoch 2/40\n",
            "27/27 [==============================] - 0s 7ms/step - loss: 0.0115 - val_loss: 0.0044\n",
            "Epoch 3/40\n",
            "27/27 [==============================] - 0s 7ms/step - loss: 0.0097 - val_loss: 0.0042\n",
            "Epoch 4/40\n",
            "27/27 [==============================] - 0s 7ms/step - loss: 0.0090 - val_loss: 0.0038\n",
            "Epoch 5/40\n",
            "27/27 [==============================] - 0s 7ms/step - loss: 0.0087 - val_loss: 0.0036\n",
            "Epoch 6/40\n",
            "27/27 [==============================] - 0s 7ms/step - loss: 0.0077 - val_loss: 0.0035\n",
            "Epoch 7/40\n",
            "27/27 [==============================] - 0s 8ms/step - loss: 0.0072 - val_loss: 0.0034\n",
            "Epoch 8/40\n",
            "27/27 [==============================] - 0s 7ms/step - loss: 0.0067 - val_loss: 0.0033\n",
            "Epoch 9/40\n",
            "27/27 [==============================] - 0s 7ms/step - loss: 0.0067 - val_loss: 0.0032\n",
            "Epoch 10/40\n",
            "27/27 [==============================] - 0s 6ms/step - loss: 0.0068 - val_loss: 0.0032\n",
            "Epoch 11/40\n",
            "27/27 [==============================] - 0s 8ms/step - loss: 0.0067 - val_loss: 0.0030\n",
            "Epoch 12/40\n",
            "27/27 [==============================] - 0s 7ms/step - loss: 0.0074 - val_loss: 0.0033\n",
            "Epoch 13/40\n",
            "27/27 [==============================] - 0s 7ms/step - loss: 0.0066 - val_loss: 0.0030\n",
            "Epoch 14/40\n",
            "27/27 [==============================] - 0s 7ms/step - loss: 0.0061 - val_loss: 0.0031\n",
            "Epoch 15/40\n",
            "27/27 [==============================] - 0s 9ms/step - loss: 0.0058 - val_loss: 0.0030\n",
            "Epoch 16/40\n",
            "27/27 [==============================] - 0s 6ms/step - loss: 0.0060 - val_loss: 0.0031\n",
            "Epoch 17/40\n",
            "27/27 [==============================] - 0s 7ms/step - loss: 0.0059 - val_loss: 0.0029\n",
            "Epoch 18/40\n",
            "27/27 [==============================] - 0s 6ms/step - loss: 0.0062 - val_loss: 0.0029\n",
            "Epoch 19/40\n",
            "27/27 [==============================] - 0s 6ms/step - loss: 0.0056 - val_loss: 0.0029\n",
            "Epoch 20/40\n",
            "27/27 [==============================] - 0s 6ms/step - loss: 0.0057 - val_loss: 0.0029\n",
            "Epoch 21/40\n",
            "27/27 [==============================] - 0s 7ms/step - loss: 0.0054 - val_loss: 0.0029\n",
            "Epoch 22/40\n",
            "27/27 [==============================] - 0s 7ms/step - loss: 0.0059 - val_loss: 0.0030\n",
            "Epoch 23/40\n",
            "27/27 [==============================] - 0s 8ms/step - loss: 0.0055 - val_loss: 0.0028\n",
            "Epoch 24/40\n",
            "27/27 [==============================] - 0s 7ms/step - loss: 0.0054 - val_loss: 0.0029\n",
            "Epoch 25/40\n",
            "27/27 [==============================] - 0s 7ms/step - loss: 0.0055 - val_loss: 0.0029\n",
            "Epoch 26/40\n",
            "27/27 [==============================] - 0s 7ms/step - loss: 0.0055 - val_loss: 0.0029\n",
            "Epoch 27/40\n",
            "27/27 [==============================] - 0s 7ms/step - loss: 0.0053 - val_loss: 0.0028\n",
            "Epoch 28/40\n",
            "27/27 [==============================] - 0s 8ms/step - loss: 0.0054 - val_loss: 0.0029\n",
            "Epoch 29/40\n",
            "27/27 [==============================] - 0s 7ms/step - loss: 0.0055 - val_loss: 0.0028\n",
            "Epoch 30/40\n",
            "27/27 [==============================] - 0s 7ms/step - loss: 0.0050 - val_loss: 0.0029\n",
            "Epoch 31/40\n",
            "27/27 [==============================] - 0s 7ms/step - loss: 0.0051 - val_loss: 0.0029\n",
            "Epoch 00031: early stopping\n"
          ]
        }
      ]
    },
    {
      "cell_type": "code",
      "metadata": {
        "colab": {
          "base_uri": "https://localhost:8080/",
          "height": 285
        },
        "id": "dDr5S1xkcJ-4",
        "outputId": "8cffb4f5-4708-43ff-8c43-bf21b8f13c3a"
      },
      "source": [
        "plt.plot(history.history['loss'])\n",
        "plt.plot(history.history['val_loss'])"
      ],
      "execution_count": 45,
      "outputs": [
        {
          "output_type": "execute_result",
          "data": {
            "text/plain": [
              "[<matplotlib.lines.Line2D at 0x7f89efc96d10>]"
            ]
          },
          "metadata": {},
          "execution_count": 45
        },
        {
          "output_type": "display_data",
          "data": {
            "image/png": "[encoded data removed]",
            "text/plain": [
              "<Figure size 432x288 with 1 Axes>"
            ]
          },
          "metadata": {
            "needs_background": "light"
          }
        }
      ]
    },
    {
      "cell_type": "code",
      "metadata": {
        "colab": {
          "base_uri": "https://localhost:8080/"
        },
        "id": "XexTnGIPcRmJ",
        "outputId": "c26fe904-5561-430b-e8a3-9555c2ce1087"
      },
      "source": [
        "targets = test[target_col][window_len:]\n",
        "preds = model.predict(X_test).squeeze()\n",
        "mean_absolute_error(preds, y_test)"
      ],
      "execution_count": 46,
      "outputs": [
        {
          "output_type": "execute_result",
          "data": {
            "text/plain": [
              "0.03785078487077672"
            ]
          },
          "metadata": {},
          "execution_count": 46
        }
      ]
    },
    {
      "cell_type": "code",
      "metadata": {
        "colab": {
          "base_uri": "https://localhost:8080/",
          "height": 428
        },
        "id": "7rPpG-Auc-Xc",
        "outputId": "75212e31-499c-40b3-b5c1-743475a205b1"
      },
      "source": [
        "preds = test[target_col].values[:-window_len] * (preds + 1)\n",
        "preds = pd.Series(index=targets.index, data=preds)\n",
        "line_plot(targets, preds, 'actual', 'prediction', lw=3)"
      ],
      "execution_count": 47,
      "outputs": [
        {
          "output_type": "display_data",
          "data": {
            "image/png": "[encoded data removed]",
            "text/plain": [
              "<Figure size 936x504 with 1 Axes>"
            ]
          },
          "metadata": {
            "needs_background": "light"
          }
        }
      ]
    },
    {
      "cell_type": "code",
      "metadata": {
        "id": "eL9u5zzKdPWR"
      },
      "source": [
        "model.save('ETHmodel.hdf5')"
      ],
      "execution_count": 48,
      "outputs": []
    },
    {
      "cell_type": "code",
      "metadata": {
        "id": "Uf6oBsYKdgTX"
      },
      "source": [
        ""
      ],
      "execution_count": null,
      "outputs": []
    }
  ]
}