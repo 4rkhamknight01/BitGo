{
  "cells": [
    {
      "cell_type": "code",
      "execution_count": 1,
      "metadata": {
        "id": "iJaMiiMLj5az"
      },
      "outputs": [],
      "source": [
        "import json\n",
        "import requests\n",
        "from keras.models import Sequential\n",
        "from keras.layers import Activation, Dense, Dropout, LSTM\n",
        "import matplotlib.pyplot as plt\n",
        "import numpy as np\n",
        "import pandas as pd\n",
        "import seaborn as sns\n",
        "from sklearn.metrics import mean_absolute_error\n",
        "%matplotlib inline"
      ]
    },
    {
      "cell_type": "code",
      "execution_count": 2,
      "metadata": {
        "id": "NeLNXehYkAgS"
      },
      "outputs": [],
      "source": [
        "endpoint = 'https://min-api.cryptocompare.com/data/histoday'\n",
        "res = requests.get(endpoint + '?fsym=BNB&tsym=USD&limit=500')\n",
        "df = pd.DataFrame(json.loads(res.content)['Data'])\n",
        "df = df.set_index('time')\n",
        "df.index = pd.to_datetime(df.index, unit='s')\n",
        "target_col='close'"
      ]
    },
    {
      "cell_type": "code",
      "execution_count": 3,
      "metadata": {
        "colab": {
          "base_uri": "https://localhost:8080/",
          "height": 447
        },
        "id": "enRYR09dkE3f",
        "outputId": "1c4462ab-f445-498c-c1cb-1aec6c8616fd"
      },
      "outputs": [
        {
          "data": {
            "text/html": [
              "<div>\n",
              "<style scoped>\n",
              "    .dataframe tbody tr th:only-of-type {\n",
              "        vertical-align: middle;\n",
              "    }\n",
              "\n",
              "    .dataframe tbody tr th {\n",
              "        vertical-align: top;\n",
              "    }\n",
              "\n",
              "    .dataframe thead th {\n",
              "        text-align: right;\n",
              "    }\n",
              "</style>\n",
              "<table border=\"1\" class=\"dataframe\">\n",
              "  <thead>\n",
              "    <tr style=\"text-align: right;\">\n",
              "      <th></th>\n",
              "      <th>high</th>\n",
              "      <th>low</th>\n",
              "      <th>open</th>\n",
              "      <th>volumefrom</th>\n",
              "      <th>volumeto</th>\n",
              "      <th>close</th>\n",
              "      <th>conversionType</th>\n",
              "      <th>conversionSymbol</th>\n",
              "    </tr>\n",
              "    <tr>\n",
              "      <th>time</th>\n",
              "      <th></th>\n",
              "      <th></th>\n",
              "      <th></th>\n",
              "      <th></th>\n",
              "      <th></th>\n",
              "      <th></th>\n",
              "      <th></th>\n",
              "      <th></th>\n",
              "    </tr>\n",
              "  </thead>\n",
              "  <tbody>\n",
              "    <tr>\n",
              "      <th>2021-09-08</th>\n",
              "      <td>425.38</td>\n",
              "      <td>382.92</td>\n",
              "      <td>418.26</td>\n",
              "      <td>195692.48</td>\n",
              "      <td>80242571.95</td>\n",
              "      <td>414.95</td>\n",
              "      <td>direct</td>\n",
              "      <td></td>\n",
              "    </tr>\n",
              "    <tr>\n",
              "      <th>2021-09-09</th>\n",
              "      <td>436.19</td>\n",
              "      <td>403.77</td>\n",
              "      <td>414.95</td>\n",
              "      <td>187049.96</td>\n",
              "      <td>78137474.02</td>\n",
              "      <td>421.29</td>\n",
              "      <td>direct</td>\n",
              "      <td></td>\n",
              "    </tr>\n",
              "    <tr>\n",
              "      <th>2021-09-10</th>\n",
              "      <td>439.39</td>\n",
              "      <td>393.80</td>\n",
              "      <td>421.29</td>\n",
              "      <td>207058.27</td>\n",
              "      <td>85154445.70</td>\n",
              "      <td>401.39</td>\n",
              "      <td>direct</td>\n",
              "      <td></td>\n",
              "    </tr>\n",
              "    <tr>\n",
              "      <th>2021-09-11</th>\n",
              "      <td>415.11</td>\n",
              "      <td>399.67</td>\n",
              "      <td>401.39</td>\n",
              "      <td>126299.87</td>\n",
              "      <td>51490028.75</td>\n",
              "      <td>404.98</td>\n",
              "      <td>direct</td>\n",
              "      <td></td>\n",
              "    </tr>\n",
              "    <tr>\n",
              "      <th>2021-09-12</th>\n",
              "      <td>421.67</td>\n",
              "      <td>397.80</td>\n",
              "      <td>404.98</td>\n",
              "      <td>112049.68</td>\n",
              "      <td>46254918.87</td>\n",
              "      <td>416.93</td>\n",
              "      <td>direct</td>\n",
              "      <td></td>\n",
              "    </tr>\n",
              "    <tr>\n",
              "      <th>...</th>\n",
              "      <td>...</td>\n",
              "      <td>...</td>\n",
              "      <td>...</td>\n",
              "      <td>...</td>\n",
              "      <td>...</td>\n",
              "      <td>...</td>\n",
              "      <td>...</td>\n",
              "      <td>...</td>\n",
              "    </tr>\n",
              "    <tr>\n",
              "      <th>2023-01-17</th>\n",
              "      <td>305.32</td>\n",
              "      <td>295.65</td>\n",
              "      <td>298.87</td>\n",
              "      <td>35446.89</td>\n",
              "      <td>10661620.10</td>\n",
              "      <td>299.29</td>\n",
              "      <td>direct</td>\n",
              "      <td></td>\n",
              "    </tr>\n",
              "    <tr>\n",
              "      <th>2023-01-18</th>\n",
              "      <td>304.69</td>\n",
              "      <td>281.70</td>\n",
              "      <td>299.29</td>\n",
              "      <td>77879.77</td>\n",
              "      <td>22881971.29</td>\n",
              "      <td>286.83</td>\n",
              "      <td>direct</td>\n",
              "      <td></td>\n",
              "    </tr>\n",
              "    <tr>\n",
              "      <th>2023-01-19</th>\n",
              "      <td>295.13</td>\n",
              "      <td>286.28</td>\n",
              "      <td>286.83</td>\n",
              "      <td>26884.57</td>\n",
              "      <td>7810235.37</td>\n",
              "      <td>294.65</td>\n",
              "      <td>direct</td>\n",
              "      <td></td>\n",
              "    </tr>\n",
              "    <tr>\n",
              "      <th>2023-01-20</th>\n",
              "      <td>305.08</td>\n",
              "      <td>286.69</td>\n",
              "      <td>294.65</td>\n",
              "      <td>65380.46</td>\n",
              "      <td>19214300.40</td>\n",
              "      <td>305.02</td>\n",
              "      <td>direct</td>\n",
              "      <td></td>\n",
              "    </tr>\n",
              "    <tr>\n",
              "      <th>2023-01-21</th>\n",
              "      <td>306.02</td>\n",
              "      <td>300.52</td>\n",
              "      <td>305.02</td>\n",
              "      <td>22420.97</td>\n",
              "      <td>6812502.83</td>\n",
              "      <td>303.08</td>\n",
              "      <td>direct</td>\n",
              "      <td></td>\n",
              "    </tr>\n",
              "  </tbody>\n",
              "</table>\n",
              "<p>501 rows × 8 columns</p>\n",
              "</div>"
            ],
            "text/plain": [
              "              high     low    open  volumefrom     volumeto   close  \\\n",
              "time                                                                  \n",
              "2021-09-08  425.38  382.92  418.26   195692.48  80242571.95  414.95   \n",
              "2021-09-09  436.19  403.77  414.95   187049.96  78137474.02  421.29   \n",
              "2021-09-10  439.39  393.80  421.29   207058.27  85154445.70  401.39   \n",
              "2021-09-11  415.11  399.67  401.39   126299.87  51490028.75  404.98   \n",
              "2021-09-12  421.67  397.80  404.98   112049.68  46254918.87  416.93   \n",
              "...            ...     ...     ...         ...          ...     ...   \n",
              "2023-01-17  305.32  295.65  298.87    35446.89  10661620.10  299.29   \n",
              "2023-01-18  304.69  281.70  299.29    77879.77  22881971.29  286.83   \n",
              "2023-01-19  295.13  286.28  286.83    26884.57   7810235.37  294.65   \n",
              "2023-01-20  305.08  286.69  294.65    65380.46  19214300.40  305.02   \n",
              "2023-01-21  306.02  300.52  305.02    22420.97   6812502.83  303.08   \n",
              "\n",
              "           conversionType conversionSymbol  \n",
              "time                                        \n",
              "2021-09-08         direct                   \n",
              "2021-09-09         direct                   \n",
              "2021-09-10         direct                   \n",
              "2021-09-11         direct                   \n",
              "2021-09-12         direct                   \n",
              "...                   ...              ...  \n",
              "2023-01-17         direct                   \n",
              "2023-01-18         direct                   \n",
              "2023-01-19         direct                   \n",
              "2023-01-20         direct                   \n",
              "2023-01-21         direct                   \n",
              "\n",
              "[501 rows x 8 columns]"
            ]
          },
          "execution_count": 3,
          "metadata": {},
          "output_type": "execute_result"
        }
      ],
      "source": [
        "df"
      ]
    },
    {
      "cell_type": "code",
      "execution_count": 25,
      "metadata": {
        "colab": {
          "base_uri": "https://localhost:8080/",
          "height": 447
        },
        "id": "g2t-6MzXkFz3",
        "outputId": "1324cbf9-f9e4-4d83-fe82-d7c76f9158a4"
      },
      "outputs": [
        {
          "data": {
            "text/html": [
              "<div>\n",
              "<style scoped>\n",
              "    .dataframe tbody tr th:only-of-type {\n",
              "        vertical-align: middle;\n",
              "    }\n",
              "\n",
              "    .dataframe tbody tr th {\n",
              "        vertical-align: top;\n",
              "    }\n",
              "\n",
              "    .dataframe thead th {\n",
              "        text-align: right;\n",
              "    }\n",
              "</style>\n",
              "<table border=\"1\" class=\"dataframe\">\n",
              "  <thead>\n",
              "    <tr style=\"text-align: right;\">\n",
              "      <th></th>\n",
              "      <th>high</th>\n",
              "      <th>low</th>\n",
              "      <th>open</th>\n",
              "      <th>volumefrom</th>\n",
              "      <th>volumeto</th>\n",
              "      <th>close</th>\n",
              "    </tr>\n",
              "    <tr>\n",
              "      <th>time</th>\n",
              "      <th></th>\n",
              "      <th></th>\n",
              "      <th></th>\n",
              "      <th></th>\n",
              "      <th></th>\n",
              "      <th></th>\n",
              "    </tr>\n",
              "  </thead>\n",
              "  <tbody>\n",
              "    <tr>\n",
              "      <th>2020-06-10</th>\n",
              "      <td>17.75</td>\n",
              "      <td>17.37</td>\n",
              "      <td>17.39</td>\n",
              "      <td>962446.29</td>\n",
              "      <td>1.678274e+07</td>\n",
              "      <td>17.44</td>\n",
              "    </tr>\n",
              "    <tr>\n",
              "      <th>2020-06-11</th>\n",
              "      <td>16.43</td>\n",
              "      <td>16.09</td>\n",
              "      <td>17.44</td>\n",
              "      <td>1079386.26</td>\n",
              "      <td>1.751077e+07</td>\n",
              "      <td>16.22</td>\n",
              "    </tr>\n",
              "    <tr>\n",
              "      <th>2020-06-12</th>\n",
              "      <td>16.89</td>\n",
              "      <td>16.51</td>\n",
              "      <td>16.22</td>\n",
              "      <td>1009410.77</td>\n",
              "      <td>1.676989e+07</td>\n",
              "      <td>16.61</td>\n",
              "    </tr>\n",
              "    <tr>\n",
              "      <th>2020-06-13</th>\n",
              "      <td>16.88</td>\n",
              "      <td>16.62</td>\n",
              "      <td>16.61</td>\n",
              "      <td>856213.51</td>\n",
              "      <td>1.441580e+07</td>\n",
              "      <td>16.84</td>\n",
              "    </tr>\n",
              "    <tr>\n",
              "      <th>2020-06-14</th>\n",
              "      <td>16.56</td>\n",
              "      <td>16.31</td>\n",
              "      <td>16.84</td>\n",
              "      <td>770141.79</td>\n",
              "      <td>1.274115e+07</td>\n",
              "      <td>16.54</td>\n",
              "    </tr>\n",
              "    <tr>\n",
              "      <th>...</th>\n",
              "      <td>...</td>\n",
              "      <td>...</td>\n",
              "      <td>...</td>\n",
              "      <td>...</td>\n",
              "      <td>...</td>\n",
              "      <td>...</td>\n",
              "    </tr>\n",
              "    <tr>\n",
              "      <th>2021-10-19</th>\n",
              "      <td>497.71</td>\n",
              "      <td>480.94</td>\n",
              "      <td>484.97</td>\n",
              "      <td>219051.01</td>\n",
              "      <td>1.069513e+08</td>\n",
              "      <td>488.03</td>\n",
              "    </tr>\n",
              "    <tr>\n",
              "      <th>2021-10-20</th>\n",
              "      <td>505.86</td>\n",
              "      <td>480.01</td>\n",
              "      <td>488.03</td>\n",
              "      <td>147082.49</td>\n",
              "      <td>7.265439e+07</td>\n",
              "      <td>501.47</td>\n",
              "    </tr>\n",
              "    <tr>\n",
              "      <th>2021-10-21</th>\n",
              "      <td>504.96</td>\n",
              "      <td>393.13</td>\n",
              "      <td>501.47</td>\n",
              "      <td>249685.76</td>\n",
              "      <td>1.207725e+08</td>\n",
              "      <td>471.13</td>\n",
              "    </tr>\n",
              "    <tr>\n",
              "      <th>2021-10-22</th>\n",
              "      <td>498.13</td>\n",
              "      <td>471.08</td>\n",
              "      <td>471.13</td>\n",
              "      <td>172713.75</td>\n",
              "      <td>8.359447e+07</td>\n",
              "      <td>479.09</td>\n",
              "    </tr>\n",
              "    <tr>\n",
              "      <th>2021-10-23</th>\n",
              "      <td>484.00</td>\n",
              "      <td>472.65</td>\n",
              "      <td>479.09</td>\n",
              "      <td>53672.88</td>\n",
              "      <td>2.574972e+07</td>\n",
              "      <td>479.42</td>\n",
              "    </tr>\n",
              "  </tbody>\n",
              "</table>\n",
              "<p>501 rows × 6 columns</p>\n",
              "</div>"
            ],
            "text/plain": [
              "              high     low    open  volumefrom      volumeto   close\n",
              "time                                                                \n",
              "2020-06-10   17.75   17.37   17.39   962446.29  1.678274e+07   17.44\n",
              "2020-06-11   16.43   16.09   17.44  1079386.26  1.751077e+07   16.22\n",
              "2020-06-12   16.89   16.51   16.22  1009410.77  1.676989e+07   16.61\n",
              "2020-06-13   16.88   16.62   16.61   856213.51  1.441580e+07   16.84\n",
              "2020-06-14   16.56   16.31   16.84   770141.79  1.274115e+07   16.54\n",
              "...            ...     ...     ...         ...           ...     ...\n",
              "2021-10-19  497.71  480.94  484.97   219051.01  1.069513e+08  488.03\n",
              "2021-10-20  505.86  480.01  488.03   147082.49  7.265439e+07  501.47\n",
              "2021-10-21  504.96  393.13  501.47   249685.76  1.207725e+08  471.13\n",
              "2021-10-22  498.13  471.08  471.13   172713.75  8.359447e+07  479.09\n",
              "2021-10-23  484.00  472.65  479.09    53672.88  2.574972e+07  479.42\n",
              "\n",
              "[501 rows x 6 columns]"
            ]
          },
          "execution_count": 25,
          "metadata": {},
          "output_type": "execute_result"
        }
      ],
      "source": [
        "df = df.drop(['conversionType','conversionSymbol'], axis=1)\n",
        "df"
      ]
    },
    {
      "cell_type": "code",
      "execution_count": 26,
      "metadata": {
        "id": "v9AFN7BEkjWF"
      },
      "outputs": [],
      "source": [
        "def line_plot(line1, line2, label1=None, label2=None, title='', lw=2):\n",
        "    fig, ax = plt.subplots(1, figsize=(13, 7))\n",
        "    ax.plot(line1, label=label1, linewidth=lw)\n",
        "    ax.plot(line2, label=label2, linewidth=lw)\n",
        "    ax.set_ylabel('price [CAD]', fontsize=14)\n",
        "    ax.set_title(title, fontsize=16)\n",
        "    ax.legend(loc='best', fontsize=16);"
      ]
    },
    {
      "cell_type": "code",
      "execution_count": 27,
      "metadata": {
        "id": "XhAUGxRgkpsM"
      },
      "outputs": [],
      "source": [
        "def train_test_split(df, test_size=0.4):\n",
        "    split_row = len(df) - int(test_size * len(df))\n",
        "    train_data = df.iloc[:split_row]\n",
        "    test_data = df.iloc[split_row:]\n",
        "    return train_data, test_data"
      ]
    },
    {
      "cell_type": "code",
      "execution_count": 28,
      "metadata": {
        "id": "eXpyra5fkro5"
      },
      "outputs": [],
      "source": [
        "train, test = train_test_split(df,test_size=0.4)"
      ]
    },
    {
      "cell_type": "code",
      "execution_count": 29,
      "metadata": {
        "colab": {
          "base_uri": "https://localhost:8080/",
          "height": 428
        },
        "id": "ToR1t-I9kulI",
        "outputId": "98ee0ec4-677e-42ed-8e91-14e424651b5f"
      },
      "outputs": [
        {
          "data": {
            "image/png": "[encoded data removed]",
            "text/plain": [
              "<Figure size 936x504 with 1 Axes>"
            ]
          },
          "metadata": {
            "needs_background": "light"
          },
          "output_type": "display_data"
        }
      ],
      "source": [
        "line_plot(train[target_col], test[target_col], 'Training', 'Test', title='')"
      ]
    },
    {
      "cell_type": "code",
      "execution_count": 30,
      "metadata": {
        "colab": {
          "base_uri": "https://localhost:8080/"
        },
        "id": "aQbmDvZIkxHh",
        "outputId": "909112e2-650e-4362-82a1-b65b65ea46ad"
      },
      "outputs": [
        {
          "name": "stdout",
          "output_type": "stream",
          "text": [
            "              high     low    open  volumefrom      volumeto   close\n",
            "time                                                                \n",
            "2020-06-10   17.75   17.37   17.39   962446.29  1.678274e+07   17.44\n",
            "2020-06-11   16.43   16.09   17.44  1079386.26  1.751077e+07   16.22\n",
            "2020-06-12   16.89   16.51   16.22  1009410.77  1.676989e+07   16.61\n",
            "2020-06-13   16.88   16.62   16.61   856213.51  1.441580e+07   16.84\n",
            "2020-06-14   16.56   16.31   16.84   770141.79  1.274115e+07   16.54\n",
            "...            ...     ...     ...         ...           ...     ...\n",
            "2021-04-02  357.53  327.91  334.24  1086263.62  3.676057e+08  338.41\n",
            "2021-04-03  336.06  314.77  338.41   644763.36  2.075512e+08  321.90\n",
            "2021-04-04  353.62  325.80  321.90   660919.82  2.310242e+08  349.55\n",
            "2021-04-05  383.63  348.98  349.55   907502.26  3.342466e+08  368.31\n",
            "2021-04-06  411.70  358.68  368.31  1274785.99  5.138100e+08  403.06\n",
            "\n",
            "[301 rows x 6 columns]\n",
            "              high     low    open  volumefrom      volumeto   close\n",
            "time                                                                \n",
            "2021-04-07  397.43  356.53  403.06  1294736.39  4.860930e+08  375.44\n",
            "2021-04-08  423.73  387.89  375.44   871553.75  3.644402e+08  418.15\n",
            "2021-04-09  453.23  405.53  418.15  1093431.56  4.955797e+08  453.23\n",
            "2021-04-10  496.81  448.27  453.23  1420631.16  6.701147e+08  471.70\n",
            "2021-04-11  530.29  454.83  471.70  1216290.73  6.390741e+08  525.43\n",
            "...            ...     ...     ...         ...           ...     ...\n",
            "2021-10-19  497.71  480.94  484.97   219051.01  1.069513e+08  488.03\n",
            "2021-10-20  505.86  480.01  488.03   147082.49  7.265439e+07  501.47\n",
            "2021-10-21  504.96  393.13  501.47   249685.76  1.207725e+08  471.13\n",
            "2021-10-22  498.13  471.08  471.13   172713.75  8.359447e+07  479.09\n",
            "2021-10-23  484.00  472.65  479.09    53672.88  2.574972e+07  479.42\n",
            "\n",
            "[200 rows x 6 columns]\n"
          ]
        }
      ],
      "source": [
        "print(train)\n",
        "print(test)"
      ]
    },
    {
      "cell_type": "code",
      "execution_count": 31,
      "metadata": {
        "id": "d-CfsUCJk_Cg"
      },
      "outputs": [],
      "source": [
        "def normalise_zero_base(df):\n",
        "    return df / df.iloc[0] - 1\n",
        "\n",
        "def normalise_min_max(df):\n",
        "    return (df - df.min()) / (data.max() - df.min())"
      ]
    },
    {
      "cell_type": "code",
      "execution_count": 32,
      "metadata": {
        "id": "j30MnSrylGfU"
      },
      "outputs": [],
      "source": [
        "def extract_window_data(df, window_len=5, zero_base=True):\n",
        "    window_data = []\n",
        "    for idx in range(len(df) - window_len):\n",
        "        tmp = df[idx: (idx + window_len)].copy()\n",
        "        if zero_base:\n",
        "            tmp = normalise_zero_base(tmp)\n",
        "        window_data.append(tmp.values)\n",
        "    return np.array(window_data)"
      ]
    },
    {
      "cell_type": "code",
      "execution_count": 33,
      "metadata": {
        "id": "HNmNh8xzlIsY"
      },
      "outputs": [],
      "source": [
        "def prepare_data(df, target_col, window_len=5, zero_base=True, test_size=0.4):\n",
        "    train_data, test_data = train_test_split(df, test_size=test_size)\n",
        "    X_train = extract_window_data(train_data, window_len, zero_base)\n",
        "    X_test = extract_window_data(test_data, window_len, zero_base)\n",
        "    y_train = train_data[target_col][window_len:].values\n",
        "    y_test = test_data[target_col][window_len:].values\n",
        "    if zero_base:\n",
        "        y_train = y_train / train_data[target_col][:-window_len].values - 1\n",
        "        y_test = y_test / test_data[target_col][:-window_len].values - 1\n",
        "\n",
        "    return train_data, test_data, X_train, X_test, y_train, y_test"
      ]
    },
    {
      "cell_type": "code",
      "execution_count": 62,
      "metadata": {
        "id": "a6qydZ8DlKeH"
      },
      "outputs": [],
      "source": [
        "def build_lstm_model(input_data, output_size, neurons=120, activ_func='linear',\n",
        "                     dropout=0.2, loss='mse', optimizer='adam'):\n",
        "    model = Sequential()\n",
        "    model.add(LSTM(neurons, input_shape=(input_data.shape[1], input_data.shape[2])))\n",
        "    model.add(Dropout(dropout))\n",
        "    model.add(Dense(units=output_size))\n",
        "    model.add(Activation(activ_func))\n",
        "\n",
        "    model.compile(loss=loss, optimizer=optimizer)\n",
        "    return model"
      ]
    },
    {
      "cell_type": "code",
      "execution_count": 63,
      "metadata": {
        "id": "Zbp3JWBYlOhM"
      },
      "outputs": [],
      "source": [
        "np.random.seed(42)\n",
        "window_len = 5\n",
        "test_size = 0.4\n",
        "zero_base = True\n",
        "lstm_neurons = 120\n",
        "epochs = 40\n",
        "batch_size = 32\n",
        "loss = 'mse'\n",
        "dropout = 0.2\n",
        "optimizer = 'adam'"
      ]
    },
    {
      "cell_type": "code",
      "execution_count": 64,
      "metadata": {
        "id": "4aVOLuhulQdh"
      },
      "outputs": [],
      "source": [
        "train, test, X_train, X_test, y_train, y_test = prepare_data(df, target_col, window_len=window_len, zero_base=zero_base, test_size=test_size)"
      ]
    },
    {
      "cell_type": "code",
      "execution_count": 69,
      "metadata": {
        "id": "ltmdF9c1lTi1"
      },
      "outputs": [],
      "source": [
        "#Early stopping using callbacks\n",
        "#from keras.callbacks import EarlyStopping\n",
        "#es = EarlyStopping(mode='min',verbose=1,patience=4)"
      ]
    },
    {
      "cell_type": "code",
      "execution_count": 67,
      "metadata": {
        "colab": {
          "base_uri": "https://localhost:8080/"
        },
        "id": "fCGE4JFWl-qH",
        "outputId": "b78de5ea-d544-4f24-d14c-4862e93554a6"
      },
      "outputs": [
        {
          "name": "stdout",
          "output_type": "stream",
          "text": [
            "Epoch 1/40\n",
            "9/9 [==============================] - 2s 60ms/step - loss: 0.0340 - val_loss: 0.0166\n",
            "Epoch 2/40\n",
            "9/9 [==============================] - 0s 10ms/step - loss: 0.0216 - val_loss: 0.0112\n",
            "Epoch 3/40\n",
            "9/9 [==============================] - 0s 9ms/step - loss: 0.0162 - val_loss: 0.0095\n",
            "Epoch 4/40\n",
            "9/9 [==============================] - 0s 10ms/step - loss: 0.0141 - val_loss: 0.0090\n",
            "Epoch 5/40\n",
            "9/9 [==============================] - 0s 10ms/step - loss: 0.0140 - val_loss: 0.0081\n",
            "Epoch 6/40\n",
            "9/9 [==============================] - 0s 9ms/step - loss: 0.0131 - val_loss: 0.0083\n",
            "Epoch 7/40\n",
            "9/9 [==============================] - 0s 9ms/step - loss: 0.0120 - val_loss: 0.0086\n",
            "Epoch 8/40\n",
            "9/9 [==============================] - 0s 10ms/step - loss: 0.0114 - val_loss: 0.0075\n",
            "Epoch 9/40\n",
            "9/9 [==============================] - 0s 9ms/step - loss: 0.0119 - val_loss: 0.0084\n",
            "Epoch 10/40\n",
            "9/9 [==============================] - 0s 10ms/step - loss: 0.0127 - val_loss: 0.0075\n",
            "Epoch 11/40\n",
            "9/9 [==============================] - 0s 9ms/step - loss: 0.0110 - val_loss: 0.0091\n",
            "Epoch 12/40\n",
            "9/9 [==============================] - 0s 9ms/step - loss: 0.0123 - val_loss: 0.0073\n",
            "Epoch 13/40\n",
            "9/9 [==============================] - 0s 10ms/step - loss: 0.0116 - val_loss: 0.0089\n",
            "Epoch 14/40\n",
            "9/9 [==============================] - 0s 10ms/step - loss: 0.0116 - val_loss: 0.0082\n",
            "Epoch 15/40\n",
            "9/9 [==============================] - 0s 10ms/step - loss: 0.0110 - val_loss: 0.0093\n",
            "Epoch 16/40\n",
            "9/9 [==============================] - 0s 9ms/step - loss: 0.0116 - val_loss: 0.0073\n",
            "Epoch 17/40\n",
            "9/9 [==============================] - 0s 8ms/step - loss: 0.0110 - val_loss: 0.0079\n",
            "Epoch 18/40\n",
            "9/9 [==============================] - 0s 10ms/step - loss: 0.0112 - val_loss: 0.0094\n",
            "Epoch 19/40\n",
            "9/9 [==============================] - 0s 10ms/step - loss: 0.0116 - val_loss: 0.0093\n",
            "Epoch 20/40\n",
            "9/9 [==============================] - 0s 10ms/step - loss: 0.0103 - val_loss: 0.0087\n",
            "Epoch 21/40\n",
            "9/9 [==============================] - 0s 9ms/step - loss: 0.0101 - val_loss: 0.0079\n",
            "Epoch 22/40\n",
            "9/9 [==============================] - 0s 9ms/step - loss: 0.0121 - val_loss: 0.0080\n",
            "Epoch 23/40\n",
            "9/9 [==============================] - 0s 10ms/step - loss: 0.0102 - val_loss: 0.0083\n",
            "Epoch 24/40\n",
            "9/9 [==============================] - 0s 10ms/step - loss: 0.0117 - val_loss: 0.0071\n",
            "Epoch 25/40\n",
            "9/9 [==============================] - 0s 9ms/step - loss: 0.0111 - val_loss: 0.0086\n",
            "Epoch 26/40\n",
            "9/9 [==============================] - 0s 10ms/step - loss: 0.0098 - val_loss: 0.0068\n",
            "Epoch 27/40\n",
            "9/9 [==============================] - 0s 9ms/step - loss: 0.0097 - val_loss: 0.0067\n",
            "Epoch 28/40\n",
            "9/9 [==============================] - 0s 10ms/step - loss: 0.0088 - val_loss: 0.0077\n",
            "Epoch 29/40\n",
            "9/9 [==============================] - 0s 9ms/step - loss: 0.0101 - val_loss: 0.0093\n",
            "Epoch 30/40\n",
            "9/9 [==============================] - 0s 9ms/step - loss: 0.0101 - val_loss: 0.0073\n",
            "Epoch 31/40\n",
            "9/9 [==============================] - 0s 9ms/step - loss: 0.0097 - val_loss: 0.0073\n",
            "Epoch 32/40\n",
            "9/9 [==============================] - 0s 9ms/step - loss: 0.0092 - val_loss: 0.0076\n",
            "Epoch 33/40\n",
            "9/9 [==============================] - 0s 9ms/step - loss: 0.0080 - val_loss: 0.0087\n",
            "Epoch 34/40\n",
            "9/9 [==============================] - 0s 9ms/step - loss: 0.0104 - val_loss: 0.0073\n",
            "Epoch 35/40\n",
            "9/9 [==============================] - 0s 9ms/step - loss: 0.0086 - val_loss: 0.0072\n",
            "Epoch 36/40\n",
            "9/9 [==============================] - 0s 9ms/step - loss: 0.0082 - val_loss: 0.0074\n",
            "Epoch 37/40\n",
            "9/9 [==============================] - 0s 11ms/step - loss: 0.0090 - val_loss: 0.0075\n",
            "Epoch 38/40\n",
            "9/9 [==============================] - 0s 10ms/step - loss: 0.0092 - val_loss: 0.0070\n",
            "Epoch 39/40\n",
            "9/9 [==============================] - 0s 9ms/step - loss: 0.0083 - val_loss: 0.0064\n",
            "Epoch 40/40\n",
            "9/9 [==============================] - 0s 10ms/step - loss: 0.0094 - val_loss: 0.0081\n"
          ]
        }
      ],
      "source": [
        "model = build_lstm_model( X_train, output_size=1, neurons=lstm_neurons, dropout=dropout, loss=loss, optimizer=optimizer)\n",
        "history = model.fit( X_train, y_train, epochs=epochs, batch_size=batch_size, validation_split=0.1, validation_data=(X_test,y_test), verbose=1, shuffle=True)"
      ]
    },
    {
      "cell_type": "code",
      "execution_count": 68,
      "metadata": {
        "colab": {
          "base_uri": "https://localhost:8080/",
          "height": 283
        },
        "id": "iFcy-SNLmBdM",
        "outputId": "05c6c639-3c48-4450-9f4b-93721b847651"
      },
      "outputs": [
        {
          "data": {
            "text/plain": [
              "[<matplotlib.lines.Line2D at 0x7fa6feb65210>]"
            ]
          },
          "execution_count": 68,
          "metadata": {},
          "output_type": "execute_result"
        },
        {
          "data": {
            "image/png": "[encoded data removed]",
            "text/plain": [
              "<Figure size 432x288 with 1 Axes>"
            ]
          },
          "metadata": {
            "needs_background": "light"
          },
          "output_type": "display_data"
        }
      ],
      "source": [
        "plt.plot(history.history['loss'])\n",
        "plt.plot(history.history['val_loss'])"
      ]
    },
    {
      "cell_type": "code",
      "execution_count": 70,
      "metadata": {
        "colab": {
          "base_uri": "https://localhost:8080/"
        },
        "id": "77UAIHUomi8J",
        "outputId": "d817003c-c1bb-4900-fe89-be1b57709c77"
      },
      "outputs": [
        {
          "data": {
            "text/plain": [
              "0.05285522335679238"
            ]
          },
          "execution_count": 70,
          "metadata": {},
          "output_type": "execute_result"
        }
      ],
      "source": [
        "targets = test[target_col][window_len:]\n",
        "preds = model.predict(X_test).squeeze()\n",
        "mean_absolute_error(preds, y_test)"
      ]
    },
    {
      "cell_type": "code",
      "execution_count": 71,
      "metadata": {
        "colab": {
          "base_uri": "https://localhost:8080/",
          "height": 428
        },
        "id": "87hQlAsZmnDg",
        "outputId": "61c805d0-f5c4-412e-febc-c99e505ba180"
      },
      "outputs": [
        {
          "data": {
            "image/png": "[encoded data removed]",
            "text/plain": [
              "<Figure size 936x504 with 1 Axes>"
            ]
          },
          "metadata": {
            "needs_background": "light"
          },
          "output_type": "display_data"
        }
      ],
      "source": [
        "preds = test[target_col].values[:-window_len] * (preds + 1)\n",
        "preds = pd.Series(index=targets.index, data=preds)\n",
        "line_plot(targets, preds, 'actual', 'prediction', lw=3)"
      ]
    },
    {
      "cell_type": "code",
      "execution_count": 72,
      "metadata": {
        "id": "yl5YoHscnPAX"
      },
      "outputs": [],
      "source": [
        "model.save('BNBmodel.hdf5')"
      ]
    },
    {
      "cell_type": "code",
      "execution_count": null,
      "metadata": {
        "id": "z6byZufDnbfo"
      },
      "outputs": [],
      "source": []
    }
  ],
  "metadata": {
    "colab": {
      "name": "BNBmodel.ipynb",
      "provenance": []
    },
    "interpreter": {
      "hash": "380030d1298d5a27518acca789ff38fe82bbf2e68b73263de6a6bf23efb7704c"
    },
    "kernelspec": {
      "display_name": "Python 3.9.13 64-bit (conda)",
      "name": "python3"
    },
    "language_info": {
      "codemirror_mode": {
        "name": "ipython",
        "version": 3
      },
      "file_extension": ".py",
      "mimetype": "text/x-python",
      "name": "python",
      "nbconvert_exporter": "python",
      "pygments_lexer": "ipython3",
      "version": "3.9.13"
    }
  },
  "nbformat": 4,
  "nbformat_minor": 0
}