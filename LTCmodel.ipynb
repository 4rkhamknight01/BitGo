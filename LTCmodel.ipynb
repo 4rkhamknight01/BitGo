{
  "nbformat": 4,
  "nbformat_minor": 0,
  "metadata": {
    "colab": {
      "name": "LTCmodel.ipynb",
      "provenance": []
    },
    "kernelspec": {
      "name": "python3",
      "display_name": "Python 3"
    },
    "language_info": {
      "name": "python"
    }
  },
  "cells": [
    {
      "cell_type": "code",
      "metadata": {
        "id": "8CLRgYxhd5W-"
      },
      "source": [
        "import json\n",
        "import requests\n",
        "from keras.models import Sequential\n",
        "from keras.layers import Activation, Dense, Dropout, LSTM\n",
        "import matplotlib.pyplot as plt\n",
        "import numpy as np\n",
        "import pandas as pd\n",
        "import seaborn as sns\n",
        "from sklearn.metrics import mean_absolute_error\n",
        "%matplotlib inline"
      ],
      "execution_count": 10,
      "outputs": []
    },
    {
      "cell_type": "code",
      "metadata": {
        "id": "QPMaqmpneAll"
      },
      "source": [
        "endpoint = 'https://min-api.cryptocompare.com/data/histoday'\n",
        "res = requests.get(endpoint + '?fsym=LTC&tsym=USD&limit=2000')\n",
        "df = pd.DataFrame(json.loads(res.content)['Data'])\n",
        "df = df.set_index('time')\n",
        "df.index = pd.to_datetime(df.index, unit='s')\n",
        "target_col='close'"
      ],
      "execution_count": 11,
      "outputs": []
    },
    {
      "cell_type": "code",
      "metadata": {
        "colab": {
          "base_uri": "https://localhost:8080/",
          "height": 447
        },
        "id": "3iwwCVxBeHxk",
        "outputId": "2da0e342-285c-4a02-d810-7353a2809297"
      },
      "source": [
        "df"
      ],
      "execution_count": 12,
      "outputs": [
        {
          "output_type": "execute_result",
          "data": {
            "text/html": [
              "<div>\n",
              "<style scoped>\n",
              "    .dataframe tbody tr th:only-of-type {\n",
              "        vertical-align: middle;\n",
              "    }\n",
              "\n",
              "    .dataframe tbody tr th {\n",
              "        vertical-align: top;\n",
              "    }\n",
              "\n",
              "    .dataframe thead th {\n",
              "        text-align: right;\n",
              "    }\n",
              "</style>\n",
              "<table border=\"1\" class=\"dataframe\">\n",
              "  <thead>\n",
              "    <tr style=\"text-align: right;\">\n",
              "      <th></th>\n",
              "      <th>high</th>\n",
              "      <th>low</th>\n",
              "      <th>open</th>\n",
              "      <th>volumefrom</th>\n",
              "      <th>volumeto</th>\n",
              "      <th>close</th>\n",
              "      <th>conversionType</th>\n",
              "      <th>conversionSymbol</th>\n",
              "    </tr>\n",
              "    <tr>\n",
              "      <th>time</th>\n",
              "      <th></th>\n",
              "      <th></th>\n",
              "      <th></th>\n",
              "      <th></th>\n",
              "      <th></th>\n",
              "      <th></th>\n",
              "      <th></th>\n",
              "      <th></th>\n",
              "    </tr>\n",
              "  </thead>\n",
              "  <tbody>\n",
              "    <tr>\n",
              "      <th>2016-05-02</th>\n",
              "      <td>3.777</td>\n",
              "      <td>3.612</td>\n",
              "      <td>3.698</td>\n",
              "      <td>150952.67</td>\n",
              "      <td>5.575085e+05</td>\n",
              "      <td>3.673</td>\n",
              "      <td>direct</td>\n",
              "      <td></td>\n",
              "    </tr>\n",
              "    <tr>\n",
              "      <th>2016-05-03</th>\n",
              "      <td>3.773</td>\n",
              "      <td>3.632</td>\n",
              "      <td>3.673</td>\n",
              "      <td>158772.71</td>\n",
              "      <td>5.897153e+05</td>\n",
              "      <td>3.729</td>\n",
              "      <td>direct</td>\n",
              "      <td></td>\n",
              "    </tr>\n",
              "    <tr>\n",
              "      <th>2016-05-04</th>\n",
              "      <td>3.783</td>\n",
              "      <td>3.703</td>\n",
              "      <td>3.729</td>\n",
              "      <td>50044.94</td>\n",
              "      <td>1.869948e+05</td>\n",
              "      <td>3.733</td>\n",
              "      <td>direct</td>\n",
              "      <td></td>\n",
              "    </tr>\n",
              "    <tr>\n",
              "      <th>2016-05-05</th>\n",
              "      <td>3.764</td>\n",
              "      <td>3.678</td>\n",
              "      <td>3.733</td>\n",
              "      <td>61195.85</td>\n",
              "      <td>2.280908e+05</td>\n",
              "      <td>3.698</td>\n",
              "      <td>direct</td>\n",
              "      <td></td>\n",
              "    </tr>\n",
              "    <tr>\n",
              "      <th>2016-05-06</th>\n",
              "      <td>3.796</td>\n",
              "      <td>3.689</td>\n",
              "      <td>3.698</td>\n",
              "      <td>69061.29</td>\n",
              "      <td>2.593226e+05</td>\n",
              "      <td>3.781</td>\n",
              "      <td>direct</td>\n",
              "      <td></td>\n",
              "    </tr>\n",
              "    <tr>\n",
              "      <th>...</th>\n",
              "      <td>...</td>\n",
              "      <td>...</td>\n",
              "      <td>...</td>\n",
              "      <td>...</td>\n",
              "      <td>...</td>\n",
              "      <td>...</td>\n",
              "      <td>...</td>\n",
              "      <td>...</td>\n",
              "    </tr>\n",
              "    <tr>\n",
              "      <th>2021-10-19</th>\n",
              "      <td>191.580</td>\n",
              "      <td>183.330</td>\n",
              "      <td>185.620</td>\n",
              "      <td>467553.50</td>\n",
              "      <td>8.775800e+07</td>\n",
              "      <td>188.830</td>\n",
              "      <td>direct</td>\n",
              "      <td></td>\n",
              "    </tr>\n",
              "    <tr>\n",
              "      <th>2021-10-20</th>\n",
              "      <td>209.310</td>\n",
              "      <td>185.810</td>\n",
              "      <td>188.830</td>\n",
              "      <td>834042.91</td>\n",
              "      <td>1.661293e+08</td>\n",
              "      <td>207.320</td>\n",
              "      <td>direct</td>\n",
              "      <td></td>\n",
              "    </tr>\n",
              "    <tr>\n",
              "      <th>2021-10-21</th>\n",
              "      <td>214.540</td>\n",
              "      <td>195.410</td>\n",
              "      <td>207.320</td>\n",
              "      <td>930858.01</td>\n",
              "      <td>1.905464e+08</td>\n",
              "      <td>196.890</td>\n",
              "      <td>direct</td>\n",
              "      <td></td>\n",
              "    </tr>\n",
              "    <tr>\n",
              "      <th>2021-10-22</th>\n",
              "      <td>201.400</td>\n",
              "      <td>187.910</td>\n",
              "      <td>196.890</td>\n",
              "      <td>667102.38</td>\n",
              "      <td>1.306328e+08</td>\n",
              "      <td>190.950</td>\n",
              "      <td>direct</td>\n",
              "      <td></td>\n",
              "    </tr>\n",
              "    <tr>\n",
              "      <th>2021-10-23</th>\n",
              "      <td>197.820</td>\n",
              "      <td>189.050</td>\n",
              "      <td>190.950</td>\n",
              "      <td>232800.51</td>\n",
              "      <td>4.496231e+07</td>\n",
              "      <td>197.230</td>\n",
              "      <td>direct</td>\n",
              "      <td></td>\n",
              "    </tr>\n",
              "  </tbody>\n",
              "</table>\n",
              "<p>2001 rows × 8 columns</p>\n",
              "</div>"
            ],
            "text/plain": [
              "               high      low     open  ...    close  conversionType  conversionSymbol\n",
              "time                                   ...                                           \n",
              "2016-05-02    3.777    3.612    3.698  ...    3.673          direct                  \n",
              "2016-05-03    3.773    3.632    3.673  ...    3.729          direct                  \n",
              "2016-05-04    3.783    3.703    3.729  ...    3.733          direct                  \n",
              "2016-05-05    3.764    3.678    3.733  ...    3.698          direct                  \n",
              "2016-05-06    3.796    3.689    3.698  ...    3.781          direct                  \n",
              "...             ...      ...      ...  ...      ...             ...               ...\n",
              "2021-10-19  191.580  183.330  185.620  ...  188.830          direct                  \n",
              "2021-10-20  209.310  185.810  188.830  ...  207.320          direct                  \n",
              "2021-10-21  214.540  195.410  207.320  ...  196.890          direct                  \n",
              "2021-10-22  201.400  187.910  196.890  ...  190.950          direct                  \n",
              "2021-10-23  197.820  189.050  190.950  ...  197.230          direct                  \n",
              "\n",
              "[2001 rows x 8 columns]"
            ]
          },
          "metadata": {},
          "execution_count": 12
        }
      ]
    },
    {
      "cell_type": "code",
      "metadata": {
        "colab": {
          "base_uri": "https://localhost:8080/",
          "height": 447
        },
        "id": "N1ca-9z6eIlW",
        "outputId": "c603a559-7487-4117-d726-f4835d69e440"
      },
      "source": [
        "df = df.drop(['conversionType','conversionSymbol'], axis=1)\n",
        "df"
      ],
      "execution_count": 13,
      "outputs": [
        {
          "output_type": "execute_result",
          "data": {
            "text/html": [
              "<div>\n",
              "<style scoped>\n",
              "    .dataframe tbody tr th:only-of-type {\n",
              "        vertical-align: middle;\n",
              "    }\n",
              "\n",
              "    .dataframe tbody tr th {\n",
              "        vertical-align: top;\n",
              "    }\n",
              "\n",
              "    .dataframe thead th {\n",
              "        text-align: right;\n",
              "    }\n",
              "</style>\n",
              "<table border=\"1\" class=\"dataframe\">\n",
              "  <thead>\n",
              "    <tr style=\"text-align: right;\">\n",
              "      <th></th>\n",
              "      <th>high</th>\n",
              "      <th>low</th>\n",
              "      <th>open</th>\n",
              "      <th>volumefrom</th>\n",
              "      <th>volumeto</th>\n",
              "      <th>close</th>\n",
              "    </tr>\n",
              "    <tr>\n",
              "      <th>time</th>\n",
              "      <th></th>\n",
              "      <th></th>\n",
              "      <th></th>\n",
              "      <th></th>\n",
              "      <th></th>\n",
              "      <th></th>\n",
              "    </tr>\n",
              "  </thead>\n",
              "  <tbody>\n",
              "    <tr>\n",
              "      <th>2016-05-02</th>\n",
              "      <td>3.777</td>\n",
              "      <td>3.612</td>\n",
              "      <td>3.698</td>\n",
              "      <td>150952.67</td>\n",
              "      <td>5.575085e+05</td>\n",
              "      <td>3.673</td>\n",
              "    </tr>\n",
              "    <tr>\n",
              "      <th>2016-05-03</th>\n",
              "      <td>3.773</td>\n",
              "      <td>3.632</td>\n",
              "      <td>3.673</td>\n",
              "      <td>158772.71</td>\n",
              "      <td>5.897153e+05</td>\n",
              "      <td>3.729</td>\n",
              "    </tr>\n",
              "    <tr>\n",
              "      <th>2016-05-04</th>\n",
              "      <td>3.783</td>\n",
              "      <td>3.703</td>\n",
              "      <td>3.729</td>\n",
              "      <td>50044.94</td>\n",
              "      <td>1.869948e+05</td>\n",
              "      <td>3.733</td>\n",
              "    </tr>\n",
              "    <tr>\n",
              "      <th>2016-05-05</th>\n",
              "      <td>3.764</td>\n",
              "      <td>3.678</td>\n",
              "      <td>3.733</td>\n",
              "      <td>61195.85</td>\n",
              "      <td>2.280908e+05</td>\n",
              "      <td>3.698</td>\n",
              "    </tr>\n",
              "    <tr>\n",
              "      <th>2016-05-06</th>\n",
              "      <td>3.796</td>\n",
              "      <td>3.689</td>\n",
              "      <td>3.698</td>\n",
              "      <td>69061.29</td>\n",
              "      <td>2.593226e+05</td>\n",
              "      <td>3.781</td>\n",
              "    </tr>\n",
              "    <tr>\n",
              "      <th>...</th>\n",
              "      <td>...</td>\n",
              "      <td>...</td>\n",
              "      <td>...</td>\n",
              "      <td>...</td>\n",
              "      <td>...</td>\n",
              "      <td>...</td>\n",
              "    </tr>\n",
              "    <tr>\n",
              "      <th>2021-10-19</th>\n",
              "      <td>191.580</td>\n",
              "      <td>183.330</td>\n",
              "      <td>185.620</td>\n",
              "      <td>467553.50</td>\n",
              "      <td>8.775800e+07</td>\n",
              "      <td>188.830</td>\n",
              "    </tr>\n",
              "    <tr>\n",
              "      <th>2021-10-20</th>\n",
              "      <td>209.310</td>\n",
              "      <td>185.810</td>\n",
              "      <td>188.830</td>\n",
              "      <td>834042.91</td>\n",
              "      <td>1.661293e+08</td>\n",
              "      <td>207.320</td>\n",
              "    </tr>\n",
              "    <tr>\n",
              "      <th>2021-10-21</th>\n",
              "      <td>214.540</td>\n",
              "      <td>195.410</td>\n",
              "      <td>207.320</td>\n",
              "      <td>930858.01</td>\n",
              "      <td>1.905464e+08</td>\n",
              "      <td>196.890</td>\n",
              "    </tr>\n",
              "    <tr>\n",
              "      <th>2021-10-22</th>\n",
              "      <td>201.400</td>\n",
              "      <td>187.910</td>\n",
              "      <td>196.890</td>\n",
              "      <td>667102.38</td>\n",
              "      <td>1.306328e+08</td>\n",
              "      <td>190.950</td>\n",
              "    </tr>\n",
              "    <tr>\n",
              "      <th>2021-10-23</th>\n",
              "      <td>197.820</td>\n",
              "      <td>189.050</td>\n",
              "      <td>190.950</td>\n",
              "      <td>232800.51</td>\n",
              "      <td>4.496231e+07</td>\n",
              "      <td>197.230</td>\n",
              "    </tr>\n",
              "  </tbody>\n",
              "</table>\n",
              "<p>2001 rows × 6 columns</p>\n",
              "</div>"
            ],
            "text/plain": [
              "               high      low     open  volumefrom      volumeto    close\n",
              "time                                                                    \n",
              "2016-05-02    3.777    3.612    3.698   150952.67  5.575085e+05    3.673\n",
              "2016-05-03    3.773    3.632    3.673   158772.71  5.897153e+05    3.729\n",
              "2016-05-04    3.783    3.703    3.729    50044.94  1.869948e+05    3.733\n",
              "2016-05-05    3.764    3.678    3.733    61195.85  2.280908e+05    3.698\n",
              "2016-05-06    3.796    3.689    3.698    69061.29  2.593226e+05    3.781\n",
              "...             ...      ...      ...         ...           ...      ...\n",
              "2021-10-19  191.580  183.330  185.620   467553.50  8.775800e+07  188.830\n",
              "2021-10-20  209.310  185.810  188.830   834042.91  1.661293e+08  207.320\n",
              "2021-10-21  214.540  195.410  207.320   930858.01  1.905464e+08  196.890\n",
              "2021-10-22  201.400  187.910  196.890   667102.38  1.306328e+08  190.950\n",
              "2021-10-23  197.820  189.050  190.950   232800.51  4.496231e+07  197.230\n",
              "\n",
              "[2001 rows x 6 columns]"
            ]
          },
          "metadata": {},
          "execution_count": 13
        }
      ]
    },
    {
      "cell_type": "code",
      "metadata": {
        "id": "71b6nQLUesYI"
      },
      "source": [
        "\n",
        "def line_plot(line1, line2, label1=None, label2=None, title='', lw=2):\n",
        "    fig, ax = plt.subplots(1, figsize=(13, 7))\n",
        "    ax.plot(line1, label=label1, linewidth=lw)\n",
        "    ax.plot(line2, label=label2, linewidth=lw)\n",
        "    ax.set_ylabel('price [CAD]', fontsize=14)\n",
        "    ax.set_title(title, fontsize=16)\n",
        "    ax.legend(loc='best', fontsize=16);"
      ],
      "execution_count": 14,
      "outputs": []
    },
    {
      "cell_type": "code",
      "metadata": {
        "id": "sfDBt-_afKqw"
      },
      "source": [
        "def train_test_split(df, test_size=0.4):\n",
        "    split_row = len(df) - int(test_size * len(df))\n",
        "    train_data = df.iloc[:split_row]\n",
        "    test_data = df.iloc[split_row:]\n",
        "    return train_data, test_data"
      ],
      "execution_count": 16,
      "outputs": []
    },
    {
      "cell_type": "code",
      "metadata": {
        "id": "WaWg2F2wfNKX"
      },
      "source": [
        "train, test = train_test_split(df,test_size=0.4)"
      ],
      "execution_count": 17,
      "outputs": []
    },
    {
      "cell_type": "code",
      "metadata": {
        "colab": {
          "base_uri": "https://localhost:8080/"
        },
        "id": "xKaSMzYufVr7",
        "outputId": "b5bb0473-8032-4b6d-fa93-7289f093c3b4"
      },
      "source": [
        "np.array(train)\n",
        "np.array(test)"
      ],
      "execution_count": 19,
      "outputs": [
        {
          "output_type": "execute_result",
          "data": {
            "text/plain": [
              "array([[7.91300000e+01, 7.41500000e+01, 7.63000000e+01, 2.94820087e+06,\n",
              "        2.20654398e+08, 7.48400000e+01],\n",
              "       [7.44500000e+01, 7.18300000e+01, 7.48400000e+01, 2.58769223e+06,\n",
              "        1.88152177e+08, 7.27100000e+01],\n",
              "       [7.76900000e+01, 7.30100000e+01, 7.27100000e+01, 2.40629918e+06,\n",
              "        1.83900395e+08, 7.64200000e+01],\n",
              "       ...,\n",
              "       [2.14540000e+02, 1.95410000e+02, 2.07320000e+02, 9.30858010e+05,\n",
              "        1.90546381e+08, 1.96890000e+02],\n",
              "       [2.01400000e+02, 1.87910000e+02, 1.96890000e+02, 6.67102380e+05,\n",
              "        1.30632811e+08, 1.90950000e+02],\n",
              "       [1.97820000e+02, 1.89050000e+02, 1.90950000e+02, 2.32800510e+05,\n",
              "        4.49623054e+07, 1.97230000e+02]])"
            ]
          },
          "metadata": {},
          "execution_count": 19
        }
      ]
    },
    {
      "cell_type": "code",
      "metadata": {
        "colab": {
          "base_uri": "https://localhost:8080/",
          "height": 428
        },
        "id": "ICfXQEDqfXdY",
        "outputId": "8e8e2817-94bf-4ada-ff07-0917d87db2c7"
      },
      "source": [
        "line_plot(train[target_col], test[target_col], 'Training', 'Test', title='')"
      ],
      "execution_count": 20,
      "outputs": [
        {
          "output_type": "display_data",
          "data": {
            "image/png": "[encoded data removed]",
            "text/plain": [
              "<Figure size 936x504 with 1 Axes>"
            ]
          },
          "metadata": {
            "needs_background": "light"
          }
        }
      ]
    },
    {
      "cell_type": "code",
      "metadata": {
        "colab": {
          "base_uri": "https://localhost:8080/"
        },
        "id": "jwxB2Kzlgosk",
        "outputId": "e390fe35-0982-4de8-d4aa-7db704a06e31"
      },
      "source": [
        "print(train)\n",
        "print(test)"
      ],
      "execution_count": 21,
      "outputs": [
        {
          "output_type": "stream",
          "name": "stdout",
          "text": [
            "              high     low    open  volumefrom      volumeto   close\n",
            "time                                                                \n",
            "2016-05-02   3.777   3.612   3.698   150952.67  5.575085e+05   3.673\n",
            "2016-05-03   3.773   3.632   3.673   158772.71  5.897153e+05   3.729\n",
            "2016-05-04   3.783   3.703   3.729    50044.94  1.869948e+05   3.733\n",
            "2016-05-05   3.764   3.678   3.733    61195.85  2.280908e+05   3.698\n",
            "2016-05-06   3.796   3.689   3.698    69061.29  2.593226e+05   3.781\n",
            "...            ...     ...     ...         ...           ...     ...\n",
            "2019-08-11  92.790  87.170  85.320  2762722.88  2.484587e+08  89.930\n",
            "2019-08-12  88.800  85.250  89.930  2423962.14  2.077652e+08  85.710\n",
            "2019-08-13  86.270  80.580  85.710  2994595.56  2.532953e+08  84.580\n",
            "2019-08-14  81.370  74.130  84.580  3972842.05  3.009858e+08  75.760\n",
            "2019-08-15  80.270  73.370  75.760  3579122.78  2.730999e+08  76.300\n",
            "\n",
            "[1201 rows x 6 columns]\n",
            "              high     low    open  volumefrom      volumeto   close\n",
            "time                                                                \n",
            "2019-08-16   79.13   74.15   76.30  2948200.87  2.206544e+08   74.84\n",
            "2019-08-17   74.45   71.83   74.84  2587692.23  1.881522e+08   72.71\n",
            "2019-08-18   77.69   73.01   72.71  2406299.18  1.839004e+08   76.42\n",
            "2019-08-19   80.96   77.10   76.42  2076169.74  1.602531e+08   77.19\n",
            "2019-08-20   76.84   74.52   77.19  2194219.87  1.650794e+08   75.23\n",
            "...            ...     ...     ...         ...           ...     ...\n",
            "2021-10-19  191.58  183.33  185.62   467553.50  8.775800e+07  188.83\n",
            "2021-10-20  209.31  185.81  188.83   834042.91  1.661293e+08  207.32\n",
            "2021-10-21  214.54  195.41  207.32   930858.01  1.905464e+08  196.89\n",
            "2021-10-22  201.40  187.91  196.89   667102.38  1.306328e+08  190.95\n",
            "2021-10-23  197.82  189.05  190.95   232800.51  4.496231e+07  197.23\n",
            "\n",
            "[800 rows x 6 columns]\n"
          ]
        }
      ]
    },
    {
      "cell_type": "code",
      "metadata": {
        "id": "Yy5dlyH6gzH8"
      },
      "source": [
        "\n",
        "def normalise_zero_base(df):\n",
        "    return df / df.iloc[0] - 1\n",
        "\n",
        "def normalise_min_max(df):\n",
        "    return (df - df.min()) / (data.max() - df.min())"
      ],
      "execution_count": 22,
      "outputs": []
    },
    {
      "cell_type": "code",
      "metadata": {
        "id": "NbotiApug1S8"
      },
      "source": [
        "def extract_window_data(df, window_len=5, zero_base=True):\n",
        "    window_data = []\n",
        "    for idx in range(len(df) - window_len):\n",
        "        tmp = df[idx: (idx + window_len)].copy()\n",
        "        if zero_base:\n",
        "            tmp = normalise_zero_base(tmp)\n",
        "        window_data.append(tmp.values)\n",
        "    return np.array(window_data)"
      ],
      "execution_count": 23,
      "outputs": []
    },
    {
      "cell_type": "code",
      "metadata": {
        "id": "lJ1awOoTg30t"
      },
      "source": [
        "\n",
        "def prepare_data(df, target_col, window_len=5, zero_base=True, test_size=0.4):\n",
        "    train_data, test_data = train_test_split(df, test_size=test_size)\n",
        "    X_train = extract_window_data(train_data, window_len, zero_base)\n",
        "    X_test = extract_window_data(test_data, window_len, zero_base)\n",
        "    y_train = train_data[target_col][window_len:].values\n",
        "    y_test = test_data[target_col][window_len:].values\n",
        "    if zero_base:\n",
        "        y_train = y_train / train_data[target_col][:-window_len].values - 1\n",
        "        y_test = y_test / test_data[target_col][:-window_len].values - 1\n",
        "\n",
        "    return train_data, test_data, X_train, X_test, y_train, y_test"
      ],
      "execution_count": 24,
      "outputs": []
    },
    {
      "cell_type": "code",
      "metadata": {
        "id": "cxBnsVi9g-Eo"
      },
      "source": [
        "\n",
        "def build_lstm_model(input_data, output_size, neurons=150, activ_func='linear',\n",
        "                     dropout=0.2, loss='mse', optimizer='adam'):\n",
        "    model = Sequential()\n",
        "    model.add(LSTM(neurons, input_shape=(input_data.shape[1], input_data.shape[2])))\n",
        "    model.add(Dropout(dropout))\n",
        "    model.add(Dense(units=output_size))\n",
        "    model.add(Activation(activ_func))\n",
        "\n",
        "    model.compile(loss=loss, optimizer=optimizer)\n",
        "    return model"
      ],
      "execution_count": 63,
      "outputs": []
    },
    {
      "cell_type": "code",
      "metadata": {
        "id": "KNnxhdyfhAcR"
      },
      "source": [
        "np.random.seed(42)\n",
        "window_len = 5\n",
        "test_size = 0.4\n",
        "zero_base = True\n",
        "lstm_neurons = 150\n",
        "epochs = 40\n",
        "batch_size = 32\n",
        "loss = 'mse'\n",
        "dropout = 0.2\n",
        "optimizer = 'adam'"
      ],
      "execution_count": 64,
      "outputs": []
    },
    {
      "cell_type": "code",
      "metadata": {
        "id": "Kv6YGXIjhI_L"
      },
      "source": [
        "train, test, X_train, X_test, y_train, y_test = prepare_data(df, target_col, window_len=window_len, zero_base=zero_base, test_size=test_size)"
      ],
      "execution_count": 65,
      "outputs": []
    },
    {
      "cell_type": "code",
      "metadata": {
        "id": "lapJbFQKhKq_"
      },
      "source": [
        "#Early stopping using callbacks\n",
        "from keras.callbacks import EarlyStopping\n",
        "es = EarlyStopping(mode='min',verbose=1,patience=4)"
      ],
      "execution_count": 72,
      "outputs": []
    },
    {
      "cell_type": "code",
      "metadata": {
        "colab": {
          "base_uri": "https://localhost:8080/"
        },
        "id": "UX1RLlgZhM-4",
        "outputId": "066496bb-736f-4ed8-e567-bd08c09d33a4"
      },
      "source": [
        "model = build_lstm_model( X_train, output_size=1, neurons=lstm_neurons, dropout=dropout, loss=loss, optimizer=optimizer)\n",
        "history = model.fit( X_train, y_train, epochs=epochs, batch_size=batch_size, validation_split=0.3, validation_data=(X_test,y_test), verbose=1, shuffle=True, callbacks=[es])"
      ],
      "execution_count": 73,
      "outputs": [
        {
          "output_type": "stream",
          "name": "stdout",
          "text": [
            "Epoch 1/40\n",
            "27/27 [==============================] - 3s 28ms/step - loss: 0.0218 - val_loss: 0.0078\n",
            "Epoch 2/40\n",
            "27/27 [==============================] - 0s 13ms/step - loss: 0.0156 - val_loss: 0.0057\n",
            "Epoch 3/40\n",
            "27/27 [==============================] - 0s 12ms/step - loss: 0.0156 - val_loss: 0.0054\n",
            "Epoch 4/40\n",
            "27/27 [==============================] - 0s 12ms/step - loss: 0.0120 - val_loss: 0.0049\n",
            "Epoch 5/40\n",
            "27/27 [==============================] - 0s 12ms/step - loss: 0.0119 - val_loss: 0.0050\n",
            "Epoch 6/40\n",
            "27/27 [==============================] - 0s 12ms/step - loss: 0.0128 - val_loss: 0.0046\n",
            "Epoch 7/40\n",
            "27/27 [==============================] - 0s 12ms/step - loss: 0.0112 - val_loss: 0.0043\n",
            "Epoch 8/40\n",
            "27/27 [==============================] - 0s 12ms/step - loss: 0.0114 - val_loss: 0.0041\n",
            "Epoch 9/40\n",
            "27/27 [==============================] - 0s 12ms/step - loss: 0.0094 - val_loss: 0.0040\n",
            "Epoch 10/40\n",
            "27/27 [==============================] - 0s 12ms/step - loss: 0.0095 - val_loss: 0.0040\n",
            "Epoch 11/40\n",
            "27/27 [==============================] - 0s 12ms/step - loss: 0.0094 - val_loss: 0.0041\n",
            "Epoch 12/40\n",
            "27/27 [==============================] - 0s 12ms/step - loss: 0.0094 - val_loss: 0.0040\n",
            "Epoch 13/40\n",
            "27/27 [==============================] - 0s 12ms/step - loss: 0.0090 - val_loss: 0.0038\n",
            "Epoch 14/40\n",
            "27/27 [==============================] - 0s 13ms/step - loss: 0.0099 - val_loss: 0.0037\n",
            "Epoch 15/40\n",
            "27/27 [==============================] - 0s 12ms/step - loss: 0.0090 - val_loss: 0.0038\n",
            "Epoch 16/40\n",
            "27/27 [==============================] - 0s 12ms/step - loss: 0.0093 - val_loss: 0.0036\n",
            "Epoch 17/40\n",
            "27/27 [==============================] - 0s 12ms/step - loss: 0.0089 - val_loss: 0.0036\n",
            "Epoch 18/40\n",
            "27/27 [==============================] - 0s 13ms/step - loss: 0.0096 - val_loss: 0.0041\n",
            "Epoch 19/40\n",
            "27/27 [==============================] - 0s 12ms/step - loss: 0.0095 - val_loss: 0.0036\n",
            "Epoch 20/40\n",
            "27/27 [==============================] - 0s 12ms/step - loss: 0.0082 - val_loss: 0.0036\n",
            "Epoch 21/40\n",
            "27/27 [==============================] - 0s 12ms/step - loss: 0.0085 - val_loss: 0.0036\n",
            "Epoch 22/40\n",
            "27/27 [==============================] - 0s 12ms/step - loss: 0.0099 - val_loss: 0.0035\n",
            "Epoch 23/40\n",
            "27/27 [==============================] - 0s 12ms/step - loss: 0.0079 - val_loss: 0.0036\n",
            "Epoch 24/40\n",
            "27/27 [==============================] - 0s 12ms/step - loss: 0.0090 - val_loss: 0.0034\n",
            "Epoch 25/40\n",
            "27/27 [==============================] - 0s 12ms/step - loss: 0.0084 - val_loss: 0.0035\n",
            "Epoch 26/40\n",
            "27/27 [==============================] - 0s 12ms/step - loss: 0.0085 - val_loss: 0.0035\n",
            "Epoch 27/40\n",
            "27/27 [==============================] - 0s 12ms/step - loss: 0.0083 - val_loss: 0.0035\n",
            "Epoch 28/40\n",
            "27/27 [==============================] - 0s 13ms/step - loss: 0.0077 - val_loss: 0.0034\n",
            "Epoch 29/40\n",
            "27/27 [==============================] - 0s 12ms/step - loss: 0.0076 - val_loss: 0.0033\n",
            "Epoch 30/40\n",
            "27/27 [==============================] - 0s 12ms/step - loss: 0.0080 - val_loss: 0.0035\n",
            "Epoch 31/40\n",
            "27/27 [==============================] - 0s 12ms/step - loss: 0.0074 - val_loss: 0.0034\n",
            "Epoch 32/40\n",
            "27/27 [==============================] - 0s 12ms/step - loss: 0.0079 - val_loss: 0.0036\n",
            "Epoch 33/40\n",
            "27/27 [==============================] - 0s 11ms/step - loss: 0.0078 - val_loss: 0.0033\n",
            "Epoch 34/40\n",
            "27/27 [==============================] - 0s 12ms/step - loss: 0.0073 - val_loss: 0.0033\n",
            "Epoch 35/40\n",
            "27/27 [==============================] - 0s 12ms/step - loss: 0.0077 - val_loss: 0.0035\n",
            "Epoch 36/40\n",
            "27/27 [==============================] - 0s 12ms/step - loss: 0.0079 - val_loss: 0.0034\n",
            "Epoch 37/40\n",
            "27/27 [==============================] - 0s 12ms/step - loss: 0.0081 - val_loss: 0.0034\n",
            "Epoch 38/40\n",
            "27/27 [==============================] - 0s 13ms/step - loss: 0.0070 - val_loss: 0.0034\n",
            "Epoch 00038: early stopping\n"
          ]
        }
      ]
    },
    {
      "cell_type": "code",
      "metadata": {
        "colab": {
          "base_uri": "https://localhost:8080/",
          "height": 284
        },
        "id": "N4-YgIh7hQuI",
        "outputId": "cce136d2-0e1d-483f-fc39-3358c7b01044"
      },
      "source": [
        "plt.plot(history.history['loss'])\n",
        "plt.plot(history.history['val_loss'])"
      ],
      "execution_count": 74,
      "outputs": [
        {
          "output_type": "execute_result",
          "data": {
            "text/plain": [
              "[<matplotlib.lines.Line2D at 0x7fd72b936e50>]"
            ]
          },
          "metadata": {},
          "execution_count": 74
        },
        {
          "output_type": "display_data",
          "data": {
            "image/png": "[encoded data removed]",
            "text/plain": [
              "<Figure size 432x288 with 1 Axes>"
            ]
          },
          "metadata": {
            "needs_background": "light"
          }
        }
      ]
    },
    {
      "cell_type": "code",
      "metadata": {
        "colab": {
          "base_uri": "https://localhost:8080/"
        },
        "id": "4MCV1n1Chg1K",
        "outputId": "2318884e-a769-4166-97dd-b7bbe7307e27"
      },
      "source": [
        "targets = test[target_col][window_len:]\n",
        "preds = model.predict(X_test).squeeze()\n",
        "mean_absolute_error(preds, y_test)"
      ],
      "execution_count": 75,
      "outputs": [
        {
          "output_type": "execute_result",
          "data": {
            "text/plain": [
              "0.04014966043586966"
            ]
          },
          "metadata": {},
          "execution_count": 75
        }
      ]
    },
    {
      "cell_type": "code",
      "metadata": {
        "colab": {
          "base_uri": "https://localhost:8080/",
          "height": 428
        },
        "id": "BXTtx3bujTUG",
        "outputId": "94ff0d22-f4c6-4ec2-8f8d-c09077a1861a"
      },
      "source": [
        "preds = test[target_col].values[:-window_len] * (preds + 1)\n",
        "preds = pd.Series(index=targets.index, data=preds)\n",
        "line_plot(targets, preds, 'actual', 'prediction', lw=3)"
      ],
      "execution_count": 76,
      "outputs": [
        {
          "output_type": "display_data",
          "data": {
            "image/png": "[encoded data removed]",
            "text/plain": [
              "<Figure size 936x504 with 1 Axes>"
            ]
          },
          "metadata": {
            "needs_background": "light"
          }
        }
      ]
    },
    {
      "cell_type": "code",
      "metadata": {
        "id": "ltlwHPqmjk8D"
      },
      "source": [
        "model.save('LTCmodel.hdf5')"
      ],
      "execution_count": 77,
      "outputs": []
    },
    {
      "cell_type": "code",
      "metadata": {
        "id": "10I71HNFjqIF"
      },
      "source": [
        ""
      ],
      "execution_count": null,
      "outputs": []
    }
  ]
}