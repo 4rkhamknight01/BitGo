{
  "nbformat": 4,
  "nbformat_minor": 0,
  "metadata": {
    "colab": {
      "name": "ADAmodel.ipynb",
      "provenance": []
    },
    "kernelspec": {
      "name": "python3",
      "display_name": "Python 3"
    },
    "language_info": {
      "name": "python"
    }
  },
  "cells": [
    {
      "cell_type": "code",
      "metadata": {
        "id": "-iY0UPrv3vuq"
      },
      "source": [
        "import json\n",
        "import requests\n",
        "from keras.models import Sequential\n",
        "from keras.layers import Activation, Dense, Dropout, LSTM\n",
        "import matplotlib.pyplot as plt\n",
        "import numpy as np\n",
        "import pandas as pd\n",
        "import seaborn as sns\n",
        "from sklearn.metrics import mean_absolute_error\n",
        "%matplotlib inline"
      ],
      "execution_count": 1,
      "outputs": []
    },
    {
      "cell_type": "code",
      "metadata": {
        "id": "pAab3tWm4QQf"
      },
      "source": [
        "endpoint = 'https://min-api.cryptocompare.com/data/histoday'\n",
        "res = requests.get(endpoint + '?fsym=ADA&tsym=USD&limit=700')\n",
        "df = pd.DataFrame(json.loads(res.content)['Data'])\n",
        "df = df.set_index('time')\n",
        "df.index = pd.to_datetime(df.index, unit='s')\n",
        "target_col='close'"
      ],
      "execution_count": 2,
      "outputs": []
    },
    {
      "cell_type": "code",
      "metadata": {
        "colab": {
          "base_uri": "https://localhost:8080/",
          "height": 447
        },
        "id": "sKVfQJj-4d1O",
        "outputId": "3127aada-061c-461a-9156-193a3517af26"
      },
      "source": [
        "df"
      ],
      "execution_count": 3,
      "outputs": [
        {
          "output_type": "execute_result",
          "data": {
            "text/html": [
              "<div>\n",
              "<style scoped>\n",
              "    .dataframe tbody tr th:only-of-type {\n",
              "        vertical-align: middle;\n",
              "    }\n",
              "\n",
              "    .dataframe tbody tr th {\n",
              "        vertical-align: top;\n",
              "    }\n",
              "\n",
              "    .dataframe thead th {\n",
              "        text-align: right;\n",
              "    }\n",
              "</style>\n",
              "<table border=\"1\" class=\"dataframe\">\n",
              "  <thead>\n",
              "    <tr style=\"text-align: right;\">\n",
              "      <th></th>\n",
              "      <th>high</th>\n",
              "      <th>low</th>\n",
              "      <th>open</th>\n",
              "      <th>volumefrom</th>\n",
              "      <th>volumeto</th>\n",
              "      <th>close</th>\n",
              "      <th>conversionType</th>\n",
              "      <th>conversionSymbol</th>\n",
              "    </tr>\n",
              "    <tr>\n",
              "      <th>time</th>\n",
              "      <th></th>\n",
              "      <th></th>\n",
              "      <th></th>\n",
              "      <th></th>\n",
              "      <th></th>\n",
              "      <th></th>\n",
              "      <th></th>\n",
              "      <th></th>\n",
              "    </tr>\n",
              "  </thead>\n",
              "  <tbody>\n",
              "    <tr>\n",
              "      <th>2019-11-26</th>\n",
              "      <td>0.03860</td>\n",
              "      <td>0.03575</td>\n",
              "      <td>0.03607</td>\n",
              "      <td>3236813.40</td>\n",
              "      <td>118318.27</td>\n",
              "      <td>0.03821</td>\n",
              "      <td>direct</td>\n",
              "      <td></td>\n",
              "    </tr>\n",
              "    <tr>\n",
              "      <th>2019-11-27</th>\n",
              "      <td>0.04005</td>\n",
              "      <td>0.03558</td>\n",
              "      <td>0.03821</td>\n",
              "      <td>13355448.26</td>\n",
              "      <td>521006.11</td>\n",
              "      <td>0.03910</td>\n",
              "      <td>direct</td>\n",
              "      <td></td>\n",
              "    </tr>\n",
              "    <tr>\n",
              "      <th>2019-11-28</th>\n",
              "      <td>0.04112</td>\n",
              "      <td>0.03850</td>\n",
              "      <td>0.03910</td>\n",
              "      <td>3577803.53</td>\n",
              "      <td>140061.56</td>\n",
              "      <td>0.03947</td>\n",
              "      <td>direct</td>\n",
              "      <td></td>\n",
              "    </tr>\n",
              "    <tr>\n",
              "      <th>2019-11-29</th>\n",
              "      <td>0.04308</td>\n",
              "      <td>0.03938</td>\n",
              "      <td>0.03947</td>\n",
              "      <td>8877647.93</td>\n",
              "      <td>365415.92</td>\n",
              "      <td>0.04136</td>\n",
              "      <td>direct</td>\n",
              "      <td></td>\n",
              "    </tr>\n",
              "    <tr>\n",
              "      <th>2019-11-30</th>\n",
              "      <td>0.04299</td>\n",
              "      <td>0.04005</td>\n",
              "      <td>0.04136</td>\n",
              "      <td>4829896.44</td>\n",
              "      <td>197042.17</td>\n",
              "      <td>0.04085</td>\n",
              "      <td>direct</td>\n",
              "      <td></td>\n",
              "    </tr>\n",
              "    <tr>\n",
              "      <th>...</th>\n",
              "      <td>...</td>\n",
              "      <td>...</td>\n",
              "      <td>...</td>\n",
              "      <td>...</td>\n",
              "      <td>...</td>\n",
              "      <td>...</td>\n",
              "      <td>...</td>\n",
              "      <td>...</td>\n",
              "    </tr>\n",
              "    <tr>\n",
              "      <th>2021-10-22</th>\n",
              "      <td>2.20900</td>\n",
              "      <td>2.12700</td>\n",
              "      <td>2.13800</td>\n",
              "      <td>35134372.96</td>\n",
              "      <td>76115084.32</td>\n",
              "      <td>2.15500</td>\n",
              "      <td>direct</td>\n",
              "      <td></td>\n",
              "    </tr>\n",
              "    <tr>\n",
              "      <th>2021-10-23</th>\n",
              "      <td>2.17300</td>\n",
              "      <td>2.13400</td>\n",
              "      <td>2.15500</td>\n",
              "      <td>17003014.14</td>\n",
              "      <td>36623023.17</td>\n",
              "      <td>2.16500</td>\n",
              "      <td>direct</td>\n",
              "      <td></td>\n",
              "    </tr>\n",
              "    <tr>\n",
              "      <th>2021-10-24</th>\n",
              "      <td>2.16700</td>\n",
              "      <td>2.09500</td>\n",
              "      <td>2.16500</td>\n",
              "      <td>21736670.71</td>\n",
              "      <td>46230772.98</td>\n",
              "      <td>2.12000</td>\n",
              "      <td>direct</td>\n",
              "      <td></td>\n",
              "    </tr>\n",
              "    <tr>\n",
              "      <th>2021-10-25</th>\n",
              "      <td>2.17600</td>\n",
              "      <td>2.11500</td>\n",
              "      <td>2.12000</td>\n",
              "      <td>24162076.30</td>\n",
              "      <td>51921058.84</td>\n",
              "      <td>2.14500</td>\n",
              "      <td>direct</td>\n",
              "      <td></td>\n",
              "    </tr>\n",
              "    <tr>\n",
              "      <th>2021-10-26</th>\n",
              "      <td>2.20000</td>\n",
              "      <td>2.14200</td>\n",
              "      <td>2.14500</td>\n",
              "      <td>16855867.23</td>\n",
              "      <td>36653790.90</td>\n",
              "      <td>2.16200</td>\n",
              "      <td>direct</td>\n",
              "      <td></td>\n",
              "    </tr>\n",
              "  </tbody>\n",
              "</table>\n",
              "<p>701 rows × 8 columns</p>\n",
              "</div>"
            ],
            "text/plain": [
              "               high      low     open  ...    close  conversionType  conversionSymbol\n",
              "time                                   ...                                           \n",
              "2019-11-26  0.03860  0.03575  0.03607  ...  0.03821          direct                  \n",
              "2019-11-27  0.04005  0.03558  0.03821  ...  0.03910          direct                  \n",
              "2019-11-28  0.04112  0.03850  0.03910  ...  0.03947          direct                  \n",
              "2019-11-29  0.04308  0.03938  0.03947  ...  0.04136          direct                  \n",
              "2019-11-30  0.04299  0.04005  0.04136  ...  0.04085          direct                  \n",
              "...             ...      ...      ...  ...      ...             ...               ...\n",
              "2021-10-22  2.20900  2.12700  2.13800  ...  2.15500          direct                  \n",
              "2021-10-23  2.17300  2.13400  2.15500  ...  2.16500          direct                  \n",
              "2021-10-24  2.16700  2.09500  2.16500  ...  2.12000          direct                  \n",
              "2021-10-25  2.17600  2.11500  2.12000  ...  2.14500          direct                  \n",
              "2021-10-26  2.20000  2.14200  2.14500  ...  2.16200          direct                  \n",
              "\n",
              "[701 rows x 8 columns]"
            ]
          },
          "metadata": {},
          "execution_count": 3
        }
      ]
    },
    {
      "cell_type": "code",
      "metadata": {
        "colab": {
          "base_uri": "https://localhost:8080/",
          "height": 447
        },
        "id": "f9pw8Fu64i56",
        "outputId": "d76e14c8-a33c-4fe9-d16a-bb8d9921c188"
      },
      "source": [
        "df = df.drop(['conversionType','conversionSymbol'], axis=1)\n",
        "df"
      ],
      "execution_count": 4,
      "outputs": [
        {
          "output_type": "execute_result",
          "data": {
            "text/html": [
              "<div>\n",
              "<style scoped>\n",
              "    .dataframe tbody tr th:only-of-type {\n",
              "        vertical-align: middle;\n",
              "    }\n",
              "\n",
              "    .dataframe tbody tr th {\n",
              "        vertical-align: top;\n",
              "    }\n",
              "\n",
              "    .dataframe thead th {\n",
              "        text-align: right;\n",
              "    }\n",
              "</style>\n",
              "<table border=\"1\" class=\"dataframe\">\n",
              "  <thead>\n",
              "    <tr style=\"text-align: right;\">\n",
              "      <th></th>\n",
              "      <th>high</th>\n",
              "      <th>low</th>\n",
              "      <th>open</th>\n",
              "      <th>volumefrom</th>\n",
              "      <th>volumeto</th>\n",
              "      <th>close</th>\n",
              "    </tr>\n",
              "    <tr>\n",
              "      <th>time</th>\n",
              "      <th></th>\n",
              "      <th></th>\n",
              "      <th></th>\n",
              "      <th></th>\n",
              "      <th></th>\n",
              "      <th></th>\n",
              "    </tr>\n",
              "  </thead>\n",
              "  <tbody>\n",
              "    <tr>\n",
              "      <th>2019-11-26</th>\n",
              "      <td>0.03860</td>\n",
              "      <td>0.03575</td>\n",
              "      <td>0.03607</td>\n",
              "      <td>3236813.40</td>\n",
              "      <td>118318.27</td>\n",
              "      <td>0.03821</td>\n",
              "    </tr>\n",
              "    <tr>\n",
              "      <th>2019-11-27</th>\n",
              "      <td>0.04005</td>\n",
              "      <td>0.03558</td>\n",
              "      <td>0.03821</td>\n",
              "      <td>13355448.26</td>\n",
              "      <td>521006.11</td>\n",
              "      <td>0.03910</td>\n",
              "    </tr>\n",
              "    <tr>\n",
              "      <th>2019-11-28</th>\n",
              "      <td>0.04112</td>\n",
              "      <td>0.03850</td>\n",
              "      <td>0.03910</td>\n",
              "      <td>3577803.53</td>\n",
              "      <td>140061.56</td>\n",
              "      <td>0.03947</td>\n",
              "    </tr>\n",
              "    <tr>\n",
              "      <th>2019-11-29</th>\n",
              "      <td>0.04308</td>\n",
              "      <td>0.03938</td>\n",
              "      <td>0.03947</td>\n",
              "      <td>8877647.93</td>\n",
              "      <td>365415.92</td>\n",
              "      <td>0.04136</td>\n",
              "    </tr>\n",
              "    <tr>\n",
              "      <th>2019-11-30</th>\n",
              "      <td>0.04299</td>\n",
              "      <td>0.04005</td>\n",
              "      <td>0.04136</td>\n",
              "      <td>4829896.44</td>\n",
              "      <td>197042.17</td>\n",
              "      <td>0.04085</td>\n",
              "    </tr>\n",
              "    <tr>\n",
              "      <th>...</th>\n",
              "      <td>...</td>\n",
              "      <td>...</td>\n",
              "      <td>...</td>\n",
              "      <td>...</td>\n",
              "      <td>...</td>\n",
              "      <td>...</td>\n",
              "    </tr>\n",
              "    <tr>\n",
              "      <th>2021-10-22</th>\n",
              "      <td>2.20900</td>\n",
              "      <td>2.12700</td>\n",
              "      <td>2.13800</td>\n",
              "      <td>35134372.96</td>\n",
              "      <td>76115084.32</td>\n",
              "      <td>2.15500</td>\n",
              "    </tr>\n",
              "    <tr>\n",
              "      <th>2021-10-23</th>\n",
              "      <td>2.17300</td>\n",
              "      <td>2.13400</td>\n",
              "      <td>2.15500</td>\n",
              "      <td>17003014.14</td>\n",
              "      <td>36623023.17</td>\n",
              "      <td>2.16500</td>\n",
              "    </tr>\n",
              "    <tr>\n",
              "      <th>2021-10-24</th>\n",
              "      <td>2.16700</td>\n",
              "      <td>2.09500</td>\n",
              "      <td>2.16500</td>\n",
              "      <td>21736670.71</td>\n",
              "      <td>46230772.98</td>\n",
              "      <td>2.12000</td>\n",
              "    </tr>\n",
              "    <tr>\n",
              "      <th>2021-10-25</th>\n",
              "      <td>2.17600</td>\n",
              "      <td>2.11500</td>\n",
              "      <td>2.12000</td>\n",
              "      <td>24162076.30</td>\n",
              "      <td>51921058.84</td>\n",
              "      <td>2.14500</td>\n",
              "    </tr>\n",
              "    <tr>\n",
              "      <th>2021-10-26</th>\n",
              "      <td>2.20000</td>\n",
              "      <td>2.14200</td>\n",
              "      <td>2.14500</td>\n",
              "      <td>16855867.23</td>\n",
              "      <td>36653790.90</td>\n",
              "      <td>2.16200</td>\n",
              "    </tr>\n",
              "  </tbody>\n",
              "</table>\n",
              "<p>701 rows × 6 columns</p>\n",
              "</div>"
            ],
            "text/plain": [
              "               high      low     open   volumefrom     volumeto    close\n",
              "time                                                                    \n",
              "2019-11-26  0.03860  0.03575  0.03607   3236813.40    118318.27  0.03821\n",
              "2019-11-27  0.04005  0.03558  0.03821  13355448.26    521006.11  0.03910\n",
              "2019-11-28  0.04112  0.03850  0.03910   3577803.53    140061.56  0.03947\n",
              "2019-11-29  0.04308  0.03938  0.03947   8877647.93    365415.92  0.04136\n",
              "2019-11-30  0.04299  0.04005  0.04136   4829896.44    197042.17  0.04085\n",
              "...             ...      ...      ...          ...          ...      ...\n",
              "2021-10-22  2.20900  2.12700  2.13800  35134372.96  76115084.32  2.15500\n",
              "2021-10-23  2.17300  2.13400  2.15500  17003014.14  36623023.17  2.16500\n",
              "2021-10-24  2.16700  2.09500  2.16500  21736670.71  46230772.98  2.12000\n",
              "2021-10-25  2.17600  2.11500  2.12000  24162076.30  51921058.84  2.14500\n",
              "2021-10-26  2.20000  2.14200  2.14500  16855867.23  36653790.90  2.16200\n",
              "\n",
              "[701 rows x 6 columns]"
            ]
          },
          "metadata": {},
          "execution_count": 4
        }
      ]
    },
    {
      "cell_type": "code",
      "metadata": {
        "id": "YyqSusGS4qmP"
      },
      "source": [
        "def line_plot(line1, line2, label1=None, label2=None, title='', lw=2):\n",
        "    fig, ax = plt.subplots(1, figsize=(13, 7))\n",
        "    ax.plot(line1, label=label1, linewidth=lw)\n",
        "    ax.plot(line2, label=label2, linewidth=lw)\n",
        "    ax.set_ylabel('price [CAD]', fontsize=14)\n",
        "    ax.set_title(title, fontsize=16)\n",
        "    ax.legend(loc='best', fontsize=16);"
      ],
      "execution_count": 5,
      "outputs": []
    },
    {
      "cell_type": "code",
      "metadata": {
        "id": "4QMf5FoD4t1G"
      },
      "source": [
        "def train_test_split(df, test_size=0.4):\n",
        "    split_row = len(df) - int(test_size * len(df))\n",
        "    train_data = df.iloc[:split_row]\n",
        "    test_data = df.iloc[split_row:]\n",
        "    return train_data, test_data"
      ],
      "execution_count": 6,
      "outputs": []
    },
    {
      "cell_type": "code",
      "metadata": {
        "id": "6dprAHUP4v8I"
      },
      "source": [
        "train, test = train_test_split(df,test_size=0.4)"
      ],
      "execution_count": 7,
      "outputs": []
    },
    {
      "cell_type": "code",
      "metadata": {
        "colab": {
          "base_uri": "https://localhost:8080/",
          "height": 428
        },
        "id": "yRnPbdc54yES",
        "outputId": "500a116d-566a-47a1-8974-ac2df6dfb664"
      },
      "source": [
        "line_plot(train[target_col], test[target_col], 'Training', 'Test', title='')"
      ],
      "execution_count": 8,
      "outputs": [
        {
          "output_type": "display_data",
          "data": {
            "image/png": "[encoded data removed]",
            "text/plain": [
              "<Figure size 936x504 with 1 Axes>"
            ]
          },
          "metadata": {
            "needs_background": "light"
          }
        }
      ]
    },
    {
      "cell_type": "code",
      "metadata": {
        "colab": {
          "base_uri": "https://localhost:8080/"
        },
        "id": "iyhF85bk407z",
        "outputId": "e8c7f2ee-d394-4d00-e5f7-177094bd738c"
      },
      "source": [
        "print(train)\n",
        "print(test)"
      ],
      "execution_count": 9,
      "outputs": [
        {
          "output_type": "stream",
          "name": "stdout",
          "text": [
            "               high      low     open    volumefrom     volumeto    close\n",
            "time                                                                     \n",
            "2019-11-26  0.03860  0.03575  0.03607  3.236813e+06    118318.27  0.03821\n",
            "2019-11-27  0.04005  0.03558  0.03821  1.335545e+07    521006.11  0.03910\n",
            "2019-11-28  0.04112  0.03850  0.03910  3.577804e+06    140061.56  0.03947\n",
            "2019-11-29  0.04308  0.03938  0.03947  8.877648e+06    365415.92  0.04136\n",
            "2019-11-30  0.04299  0.04005  0.04136  4.829896e+06    197042.17  0.04085\n",
            "...             ...      ...      ...           ...          ...      ...\n",
            "2021-01-15  0.33110  0.27750  0.31100  1.307441e+08  40231461.68  0.30270\n",
            "2021-01-16  0.36680  0.30210  0.30270  1.683773e+08  57646426.87  0.35110\n",
            "2021-01-17  0.39740  0.34150  0.35110  1.889311e+08  70590866.80  0.38150\n",
            "2021-01-18  0.39680  0.36430  0.38150  9.642112e+07  36173045.45  0.37090\n",
            "2021-01-19  0.38480  0.36280  0.37090  8.180933e+07  30468473.23  0.36810\n",
            "\n",
            "[421 rows x 6 columns]\n",
            "              high     low    open    volumefrom     volumeto   close\n",
            "time                                                                 \n",
            "2021-01-20  0.3769  0.3303  0.3681  1.191100e+08  42311316.44  0.3758\n",
            "2021-01-21  0.3793  0.2998  0.3758  1.371869e+08  46234468.07  0.3081\n",
            "2021-01-22  0.3598  0.2794  0.3081  1.609186e+08  51412369.05  0.3496\n",
            "2021-01-23  0.3579  0.3361  0.3496  5.948166e+07  20684398.78  0.3457\n",
            "2021-01-24  0.3695  0.3369  0.3457  6.522268e+07  23010866.72  0.3538\n",
            "...            ...     ...     ...           ...          ...     ...\n",
            "2021-10-22  2.2090  2.1270  2.1380  3.513437e+07  76115084.32  2.1550\n",
            "2021-10-23  2.1730  2.1340  2.1550  1.700301e+07  36623023.17  2.1650\n",
            "2021-10-24  2.1670  2.0950  2.1650  2.173667e+07  46230772.98  2.1200\n",
            "2021-10-25  2.1760  2.1150  2.1200  2.416208e+07  51921058.84  2.1450\n",
            "2021-10-26  2.2000  2.1420  2.1450  1.685587e+07  36653790.90  2.1620\n",
            "\n",
            "[280 rows x 6 columns]\n"
          ]
        }
      ]
    },
    {
      "cell_type": "code",
      "metadata": {
        "id": "DUO8co1c5A3N"
      },
      "source": [
        "def normalise_zero_base(df):\n",
        "    return df / df.iloc[0] - 1\n",
        "\n",
        "def normalise_min_max(df):\n",
        "    return (df - df.min()) / (data.max() - df.min())"
      ],
      "execution_count": 10,
      "outputs": []
    },
    {
      "cell_type": "code",
      "metadata": {
        "id": "VotvarIM5Lo_"
      },
      "source": [
        "def extract_window_data(df, window_len=5, zero_base=True):\n",
        "    window_data = []\n",
        "    for idx in range(len(df) - window_len):\n",
        "        tmp = df[idx: (idx + window_len)].copy()\n",
        "        if zero_base:\n",
        "            tmp = normalise_zero_base(tmp)\n",
        "        window_data.append(tmp.values)\n",
        "    return np.array(window_data)"
      ],
      "execution_count": 11,
      "outputs": []
    },
    {
      "cell_type": "code",
      "metadata": {
        "id": "d4MAQn5G5PCz"
      },
      "source": [
        "def prepare_data(df, target_col, window_len=5, zero_base=True, test_size=0.4):\n",
        "    train_data, test_data = train_test_split(df, test_size=test_size)\n",
        "    X_train = extract_window_data(train_data, window_len, zero_base)\n",
        "    X_test = extract_window_data(test_data, window_len, zero_base)\n",
        "    y_train = train_data[target_col][window_len:].values\n",
        "    y_test = test_data[target_col][window_len:].values\n",
        "    if zero_base:\n",
        "        y_train = y_train / train_data[target_col][:-window_len].values - 1\n",
        "        y_test = y_test / test_data[target_col][:-window_len].values - 1\n",
        "\n",
        "    return train_data, test_data, X_train, X_test, y_train, y_test"
      ],
      "execution_count": 12,
      "outputs": []
    },
    {
      "cell_type": "code",
      "metadata": {
        "id": "UaB3jRZn5Was"
      },
      "source": [
        "def build_lstm_model(input_data, output_size, neurons=120, activ_func='linear',\n",
        "                     dropout=0.3, loss='mse', optimizer='adam'):\n",
        "    model = Sequential()\n",
        "    model.add(LSTM(neurons, input_shape=(input_data.shape[1], input_data.shape[2])))\n",
        "    model.add(Dropout(dropout))\n",
        "    model.add(Dense(units=output_size))\n",
        "    model.add(Activation(activ_func))\n",
        "\n",
        "    model.compile(loss=loss, optimizer=optimizer)\n",
        "    return model"
      ],
      "execution_count": 35,
      "outputs": []
    },
    {
      "cell_type": "code",
      "metadata": {
        "id": "LNj9rc3F5aMr"
      },
      "source": [
        "np.random.seed(42)\n",
        "window_len = 5\n",
        "test_size = 0.4\n",
        "zero_base = True\n",
        "lstm_neurons = 120\n",
        "epochs = 40\n",
        "batch_size = 32\n",
        "loss = 'mse'\n",
        "dropout = 0.3\n",
        "optimizer = 'adam'"
      ],
      "execution_count": 36,
      "outputs": []
    },
    {
      "cell_type": "code",
      "metadata": {
        "id": "ymD7TY955fZN"
      },
      "source": [
        "train, test, X_train, X_test, y_train, y_test = prepare_data(df, target_col, window_len=window_len, zero_base=zero_base, test_size=test_size)"
      ],
      "execution_count": 37,
      "outputs": []
    },
    {
      "cell_type": "code",
      "metadata": {
        "id": "LIyg9-0A5_wR"
      },
      "source": [
        "from keras.callbacks import EarlyStopping\n",
        "es = EarlyStopping(mode='min',verbose=1,patience=5)"
      ],
      "execution_count": 38,
      "outputs": []
    },
    {
      "cell_type": "code",
      "metadata": {
        "colab": {
          "base_uri": "https://localhost:8080/"
        },
        "id": "F8Og1Vem5h-Q",
        "outputId": "43f3e645-3913-44f3-94e9-c0101f32b032"
      },
      "source": [
        "model = build_lstm_model( X_train, output_size=1, neurons=lstm_neurons, dropout=dropout, loss=loss, optimizer=optimizer)\n",
        "history = model.fit( X_train, y_train, epochs=epochs, batch_size=batch_size, validation_split=0.3, validation_data=(X_test,y_test), verbose=1, shuffle=True, callbacks = [es])"
      ],
      "execution_count": 39,
      "outputs": [
        {
          "output_type": "stream",
          "name": "stdout",
          "text": [
            "Epoch 1/40\n",
            "10/10 [==============================] - 2s 59ms/step - loss: 0.0226 - val_loss: 0.0206\n",
            "Epoch 2/40\n",
            "10/10 [==============================] - 0s 12ms/step - loss: 0.0127 - val_loss: 0.0177\n",
            "Epoch 3/40\n",
            "10/10 [==============================] - 0s 12ms/step - loss: 0.0096 - val_loss: 0.0116\n",
            "Epoch 4/40\n",
            "10/10 [==============================] - 0s 13ms/step - loss: 0.0093 - val_loss: 0.0109\n",
            "Epoch 5/40\n",
            "10/10 [==============================] - 0s 11ms/step - loss: 0.0087 - val_loss: 0.0109\n",
            "Epoch 6/40\n",
            "10/10 [==============================] - 0s 12ms/step - loss: 0.0085 - val_loss: 0.0095\n",
            "Epoch 7/40\n",
            "10/10 [==============================] - 0s 10ms/step - loss: 0.0075 - val_loss: 0.0098\n",
            "Epoch 8/40\n",
            "10/10 [==============================] - 0s 12ms/step - loss: 0.0071 - val_loss: 0.0091\n",
            "Epoch 9/40\n",
            "10/10 [==============================] - 0s 11ms/step - loss: 0.0064 - val_loss: 0.0095\n",
            "Epoch 10/40\n",
            "10/10 [==============================] - 0s 9ms/step - loss: 0.0062 - val_loss: 0.0094\n",
            "Epoch 11/40\n",
            "10/10 [==============================] - 0s 11ms/step - loss: 0.0061 - val_loss: 0.0096\n",
            "Epoch 12/40\n",
            "10/10 [==============================] - 0s 10ms/step - loss: 0.0082 - val_loss: 0.0088\n",
            "Epoch 13/40\n",
            "10/10 [==============================] - 0s 11ms/step - loss: 0.0064 - val_loss: 0.0090\n",
            "Epoch 14/40\n",
            "10/10 [==============================] - 0s 12ms/step - loss: 0.0058 - val_loss: 0.0086\n",
            "Epoch 15/40\n",
            "10/10 [==============================] - 0s 10ms/step - loss: 0.0055 - val_loss: 0.0084\n",
            "Epoch 16/40\n",
            "10/10 [==============================] - 0s 10ms/step - loss: 0.0053 - val_loss: 0.0082\n",
            "Epoch 17/40\n",
            "10/10 [==============================] - 0s 11ms/step - loss: 0.0055 - val_loss: 0.0088\n",
            "Epoch 18/40\n",
            "10/10 [==============================] - 0s 11ms/step - loss: 0.0050 - val_loss: 0.0079\n",
            "Epoch 19/40\n",
            "10/10 [==============================] - 0s 11ms/step - loss: 0.0049 - val_loss: 0.0084\n",
            "Epoch 20/40\n",
            "10/10 [==============================] - 0s 10ms/step - loss: 0.0050 - val_loss: 0.0077\n",
            "Epoch 21/40\n",
            "10/10 [==============================] - 0s 11ms/step - loss: 0.0049 - val_loss: 0.0085\n",
            "Epoch 22/40\n",
            "10/10 [==============================] - 0s 10ms/step - loss: 0.0048 - val_loss: 0.0080\n",
            "Epoch 23/40\n",
            "10/10 [==============================] - 0s 11ms/step - loss: 0.0046 - val_loss: 0.0082\n",
            "Epoch 24/40\n",
            "10/10 [==============================] - 0s 10ms/step - loss: 0.0045 - val_loss: 0.0074\n",
            "Epoch 25/40\n",
            "10/10 [==============================] - 0s 10ms/step - loss: 0.0049 - val_loss: 0.0081\n",
            "Epoch 26/40\n",
            "10/10 [==============================] - 0s 11ms/step - loss: 0.0049 - val_loss: 0.0073\n",
            "Epoch 27/40\n",
            "10/10 [==============================] - 0s 14ms/step - loss: 0.0048 - val_loss: 0.0081\n",
            "Epoch 28/40\n",
            "10/10 [==============================] - 0s 12ms/step - loss: 0.0048 - val_loss: 0.0073\n",
            "Epoch 29/40\n",
            "10/10 [==============================] - 0s 12ms/step - loss: 0.0046 - val_loss: 0.0069\n",
            "Epoch 30/40\n",
            "10/10 [==============================] - 0s 13ms/step - loss: 0.0045 - val_loss: 0.0073\n",
            "Epoch 31/40\n",
            "10/10 [==============================] - 0s 10ms/step - loss: 0.0039 - val_loss: 0.0074\n",
            "Epoch 32/40\n",
            "10/10 [==============================] - 0s 11ms/step - loss: 0.0044 - val_loss: 0.0074\n",
            "Epoch 33/40\n",
            "10/10 [==============================] - 0s 10ms/step - loss: 0.0040 - val_loss: 0.0070\n",
            "Epoch 34/40\n",
            "10/10 [==============================] - 0s 11ms/step - loss: 0.0040 - val_loss: 0.0072\n",
            "Epoch 00034: early stopping\n"
          ]
        }
      ]
    },
    {
      "cell_type": "code",
      "metadata": {
        "colab": {
          "base_uri": "https://localhost:8080/",
          "height": 282
        },
        "id": "PwozHvXJ5kxp",
        "outputId": "a9f55eeb-facf-45fd-f62e-3646da7b2fb8"
      },
      "source": [
        "plt.plot(history.history['loss'])\n",
        "plt.plot(history.history['val_loss'])"
      ],
      "execution_count": 40,
      "outputs": [
        {
          "output_type": "execute_result",
          "data": {
            "text/plain": [
              "[<matplotlib.lines.Line2D at 0x7f3093e2cc50>]"
            ]
          },
          "metadata": {},
          "execution_count": 40
        },
        {
          "output_type": "display_data",
          "data": {
            "image/png": "[encoded data removed]",
            "text/plain": [
              "<Figure size 432x288 with 1 Axes>"
            ]
          },
          "metadata": {
            "needs_background": "light"
          }
        }
      ]
    },
    {
      "cell_type": "code",
      "metadata": {
        "colab": {
          "base_uri": "https://localhost:8080/"
        },
        "id": "58gIZHqI5thR",
        "outputId": "07902d9c-90b8-4b82-f0f8-b39e12425eea"
      },
      "source": [
        "targets = test[target_col][window_len:]\n",
        "preds = model.predict(X_test).squeeze()\n",
        "mean_absolute_error(preds, y_test)"
      ],
      "execution_count": 42,
      "outputs": [
        {
          "output_type": "execute_result",
          "data": {
            "text/plain": [
              "0.055325795378141085"
            ]
          },
          "metadata": {},
          "execution_count": 42
        }
      ]
    },
    {
      "cell_type": "code",
      "metadata": {
        "colab": {
          "base_uri": "https://localhost:8080/",
          "height": 428
        },
        "id": "PG_mYyFc60Xl",
        "outputId": "ef0a080d-740a-4f2c-ef7a-861c83106892"
      },
      "source": [
        "preds = test[target_col].values[:-window_len] * (preds + 1)\n",
        "preds = pd.Series(index=targets.index, data=preds)\n",
        "line_plot(targets, preds, 'actual', 'prediction', lw=3)"
      ],
      "execution_count": 43,
      "outputs": [
        {
          "output_type": "display_data",
          "data": {
            "image/png": "[encoded data removed]",
            "text/plain": [
              "<Figure size 936x504 with 1 Axes>"
            ]
          },
          "metadata": {
            "needs_background": "light"
          }
        }
      ]
    },
    {
      "cell_type": "code",
      "metadata": {
        "id": "zZtjHQRS64Tb"
      },
      "source": [
        "model.save('ADAmodel.hdf5')"
      ],
      "execution_count": 44,
      "outputs": []
    },
    {
      "cell_type": "code",
      "metadata": {
        "id": "m9qc59gK7As_"
      },
      "source": [
        ""
      ],
      "execution_count": null,
      "outputs": []
    }
  ]
}