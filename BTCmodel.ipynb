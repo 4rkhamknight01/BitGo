{
  "nbformat": 4,
  "nbformat_minor": 0,
  "metadata": {
    "colab": {
      "name": "BTCmodel2.ipynb",
      "provenance": []
    },
    "kernelspec": {
      "name": "python3",
      "display_name": "Python 3"
    },
    "language_info": {
      "name": "python"
    }
  },
  "cells": [
    {
      "cell_type": "code",
      "metadata": {
        "id": "_1PHEWHYQ17R"
      },
      "source": [
        "import json\n",
        "import requests\n",
        "from keras.models import Sequential\n",
        "from keras.layers import Activation, Dense, Dropout, LSTM\n",
        "import matplotlib.pyplot as plt\n",
        "import numpy as np\n",
        "import pandas as pd\n",
        "import seaborn as sns\n",
        "from sklearn.metrics import mean_absolute_error\n",
        "%matplotlib inline"
      ],
      "execution_count": 2,
      "outputs": []
    },
    {
      "cell_type": "code",
      "metadata": {
        "id": "_zWhWWvSQ-F_"
      },
      "source": [
        "endpoint = 'https://min-api.cryptocompare.com/data/histoday'\n",
        "res = requests.get(endpoint + '?fsym=BTC&tsym=USD&limit=2000')\n",
        "df = pd.DataFrame(json.loads(res.content)['Data'])\n",
        "df = df.set_index('time')\n",
        "df.index = pd.to_datetime(df.index, unit='s')\n",
        "target_col='close'"
      ],
      "execution_count": 3,
      "outputs": []
    },
    {
      "cell_type": "code",
      "metadata": {
        "colab": {
          "base_uri": "https://localhost:8080/",
          "height": 447
        },
        "id": "h0JW_wNWRBkW",
        "outputId": "8a616344-050b-4ef5-beb7-e430585fafa7"
      },
      "source": [
        "df"
      ],
      "execution_count": 4,
      "outputs": [
        {
          "output_type": "execute_result",
          "data": {
            "text/html": [
              "<div>\n",
              "<style scoped>\n",
              "    .dataframe tbody tr th:only-of-type {\n",
              "        vertical-align: middle;\n",
              "    }\n",
              "\n",
              "    .dataframe tbody tr th {\n",
              "        vertical-align: top;\n",
              "    }\n",
              "\n",
              "    .dataframe thead th {\n",
              "        text-align: right;\n",
              "    }\n",
              "</style>\n",
              "<table border=\"1\" class=\"dataframe\">\n",
              "  <thead>\n",
              "    <tr style=\"text-align: right;\">\n",
              "      <th></th>\n",
              "      <th>high</th>\n",
              "      <th>low</th>\n",
              "      <th>open</th>\n",
              "      <th>volumefrom</th>\n",
              "      <th>volumeto</th>\n",
              "      <th>close</th>\n",
              "      <th>conversionType</th>\n",
              "      <th>conversionSymbol</th>\n",
              "    </tr>\n",
              "    <tr>\n",
              "      <th>time</th>\n",
              "      <th></th>\n",
              "      <th></th>\n",
              "      <th></th>\n",
              "      <th></th>\n",
              "      <th></th>\n",
              "      <th></th>\n",
              "      <th></th>\n",
              "      <th></th>\n",
              "    </tr>\n",
              "  </thead>\n",
              "  <tbody>\n",
              "    <tr>\n",
              "      <th>2016-04-20</th>\n",
              "      <td>442.86</td>\n",
              "      <td>432.51</td>\n",
              "      <td>434.92</td>\n",
              "      <td>74361.53</td>\n",
              "      <td>3.265542e+07</td>\n",
              "      <td>441.16</td>\n",
              "      <td>direct</td>\n",
              "      <td></td>\n",
              "    </tr>\n",
              "    <tr>\n",
              "      <th>2016-04-21</th>\n",
              "      <td>450.80</td>\n",
              "      <td>439.53</td>\n",
              "      <td>441.16</td>\n",
              "      <td>63127.80</td>\n",
              "      <td>2.816877e+07</td>\n",
              "      <td>449.34</td>\n",
              "      <td>direct</td>\n",
              "      <td></td>\n",
              "    </tr>\n",
              "    <tr>\n",
              "      <th>2016-04-22</th>\n",
              "      <td>450.19</td>\n",
              "      <td>441.90</td>\n",
              "      <td>449.34</td>\n",
              "      <td>49710.33</td>\n",
              "      <td>2.222516e+07</td>\n",
              "      <td>445.28</td>\n",
              "      <td>direct</td>\n",
              "      <td></td>\n",
              "    </tr>\n",
              "    <tr>\n",
              "      <th>2016-04-23</th>\n",
              "      <td>451.48</td>\n",
              "      <td>443.07</td>\n",
              "      <td>445.28</td>\n",
              "      <td>42358.77</td>\n",
              "      <td>1.899821e+07</td>\n",
              "      <td>450.08</td>\n",
              "      <td>direct</td>\n",
              "      <td></td>\n",
              "    </tr>\n",
              "    <tr>\n",
              "      <th>2016-04-24</th>\n",
              "      <td>461.78</td>\n",
              "      <td>447.89</td>\n",
              "      <td>450.08</td>\n",
              "      <td>74434.28</td>\n",
              "      <td>3.398427e+07</td>\n",
              "      <td>457.56</td>\n",
              "      <td>direct</td>\n",
              "      <td></td>\n",
              "    </tr>\n",
              "    <tr>\n",
              "      <th>...</th>\n",
              "      <td>...</td>\n",
              "      <td>...</td>\n",
              "      <td>...</td>\n",
              "      <td>...</td>\n",
              "      <td>...</td>\n",
              "      <td>...</td>\n",
              "      <td>...</td>\n",
              "      <td>...</td>\n",
              "    </tr>\n",
              "    <tr>\n",
              "      <th>2021-10-07</th>\n",
              "      <td>55359.77</td>\n",
              "      <td>53391.93</td>\n",
              "      <td>55343.24</td>\n",
              "      <td>33806.76</td>\n",
              "      <td>1.836530e+09</td>\n",
              "      <td>53797.21</td>\n",
              "      <td>direct</td>\n",
              "      <td></td>\n",
              "    </tr>\n",
              "    <tr>\n",
              "      <th>2021-10-08</th>\n",
              "      <td>56047.91</td>\n",
              "      <td>53666.09</td>\n",
              "      <td>53796.22</td>\n",
              "      <td>29127.91</td>\n",
              "      <td>1.592266e+09</td>\n",
              "      <td>53949.29</td>\n",
              "      <td>direct</td>\n",
              "      <td></td>\n",
              "    </tr>\n",
              "    <tr>\n",
              "      <th>2021-10-09</th>\n",
              "      <td>55485.20</td>\n",
              "      <td>53696.32</td>\n",
              "      <td>53949.29</td>\n",
              "      <td>14593.95</td>\n",
              "      <td>7.996072e+08</td>\n",
              "      <td>54968.04</td>\n",
              "      <td>direct</td>\n",
              "      <td></td>\n",
              "    </tr>\n",
              "    <tr>\n",
              "      <th>2021-10-10</th>\n",
              "      <td>56473.63</td>\n",
              "      <td>54131.52</td>\n",
              "      <td>54968.04</td>\n",
              "      <td>23094.98</td>\n",
              "      <td>1.276001e+09</td>\n",
              "      <td>54700.24</td>\n",
              "      <td>direct</td>\n",
              "      <td></td>\n",
              "    </tr>\n",
              "    <tr>\n",
              "      <th>2021-10-11</th>\n",
              "      <td>57752.91</td>\n",
              "      <td>54448.68</td>\n",
              "      <td>54700.24</td>\n",
              "      <td>26065.96</td>\n",
              "      <td>1.477093e+09</td>\n",
              "      <td>57475.73</td>\n",
              "      <td>direct</td>\n",
              "      <td></td>\n",
              "    </tr>\n",
              "  </tbody>\n",
              "</table>\n",
              "<p>2001 rows × 8 columns</p>\n",
              "</div>"
            ],
            "text/plain": [
              "                high       low  ...  conversionType  conversionSymbol\n",
              "time                            ...                                  \n",
              "2016-04-20    442.86    432.51  ...          direct                  \n",
              "2016-04-21    450.80    439.53  ...          direct                  \n",
              "2016-04-22    450.19    441.90  ...          direct                  \n",
              "2016-04-23    451.48    443.07  ...          direct                  \n",
              "2016-04-24    461.78    447.89  ...          direct                  \n",
              "...              ...       ...  ...             ...               ...\n",
              "2021-10-07  55359.77  53391.93  ...          direct                  \n",
              "2021-10-08  56047.91  53666.09  ...          direct                  \n",
              "2021-10-09  55485.20  53696.32  ...          direct                  \n",
              "2021-10-10  56473.63  54131.52  ...          direct                  \n",
              "2021-10-11  57752.91  54448.68  ...          direct                  \n",
              "\n",
              "[2001 rows x 8 columns]"
            ]
          },
          "metadata": {},
          "execution_count": 4
        }
      ]
    },
    {
      "cell_type": "code",
      "metadata": {
        "colab": {
          "base_uri": "https://localhost:8080/",
          "height": 447
        },
        "id": "oRiqisjNzOKR",
        "outputId": "22b97521-54ab-4d8c-e723-50f978bdeb65"
      },
      "source": [
        "df = df.drop(['conversionType','conversionSymbol'], axis=1)\n",
        "df"
      ],
      "execution_count": 5,
      "outputs": [
        {
          "output_type": "execute_result",
          "data": {
            "text/html": [
              "<div>\n",
              "<style scoped>\n",
              "    .dataframe tbody tr th:only-of-type {\n",
              "        vertical-align: middle;\n",
              "    }\n",
              "\n",
              "    .dataframe tbody tr th {\n",
              "        vertical-align: top;\n",
              "    }\n",
              "\n",
              "    .dataframe thead th {\n",
              "        text-align: right;\n",
              "    }\n",
              "</style>\n",
              "<table border=\"1\" class=\"dataframe\">\n",
              "  <thead>\n",
              "    <tr style=\"text-align: right;\">\n",
              "      <th></th>\n",
              "      <th>high</th>\n",
              "      <th>low</th>\n",
              "      <th>open</th>\n",
              "      <th>volumefrom</th>\n",
              "      <th>volumeto</th>\n",
              "      <th>close</th>\n",
              "    </tr>\n",
              "    <tr>\n",
              "      <th>time</th>\n",
              "      <th></th>\n",
              "      <th></th>\n",
              "      <th></th>\n",
              "      <th></th>\n",
              "      <th></th>\n",
              "      <th></th>\n",
              "    </tr>\n",
              "  </thead>\n",
              "  <tbody>\n",
              "    <tr>\n",
              "      <th>2016-04-20</th>\n",
              "      <td>442.86</td>\n",
              "      <td>432.51</td>\n",
              "      <td>434.92</td>\n",
              "      <td>74361.53</td>\n",
              "      <td>3.265542e+07</td>\n",
              "      <td>441.16</td>\n",
              "    </tr>\n",
              "    <tr>\n",
              "      <th>2016-04-21</th>\n",
              "      <td>450.80</td>\n",
              "      <td>439.53</td>\n",
              "      <td>441.16</td>\n",
              "      <td>63127.80</td>\n",
              "      <td>2.816877e+07</td>\n",
              "      <td>449.34</td>\n",
              "    </tr>\n",
              "    <tr>\n",
              "      <th>2016-04-22</th>\n",
              "      <td>450.19</td>\n",
              "      <td>441.90</td>\n",
              "      <td>449.34</td>\n",
              "      <td>49710.33</td>\n",
              "      <td>2.222516e+07</td>\n",
              "      <td>445.28</td>\n",
              "    </tr>\n",
              "    <tr>\n",
              "      <th>2016-04-23</th>\n",
              "      <td>451.48</td>\n",
              "      <td>443.07</td>\n",
              "      <td>445.28</td>\n",
              "      <td>42358.77</td>\n",
              "      <td>1.899821e+07</td>\n",
              "      <td>450.08</td>\n",
              "    </tr>\n",
              "    <tr>\n",
              "      <th>2016-04-24</th>\n",
              "      <td>461.78</td>\n",
              "      <td>447.89</td>\n",
              "      <td>450.08</td>\n",
              "      <td>74434.28</td>\n",
              "      <td>3.398427e+07</td>\n",
              "      <td>457.56</td>\n",
              "    </tr>\n",
              "    <tr>\n",
              "      <th>...</th>\n",
              "      <td>...</td>\n",
              "      <td>...</td>\n",
              "      <td>...</td>\n",
              "      <td>...</td>\n",
              "      <td>...</td>\n",
              "      <td>...</td>\n",
              "    </tr>\n",
              "    <tr>\n",
              "      <th>2021-10-07</th>\n",
              "      <td>55359.77</td>\n",
              "      <td>53391.93</td>\n",
              "      <td>55343.24</td>\n",
              "      <td>33806.76</td>\n",
              "      <td>1.836530e+09</td>\n",
              "      <td>53797.21</td>\n",
              "    </tr>\n",
              "    <tr>\n",
              "      <th>2021-10-08</th>\n",
              "      <td>56047.91</td>\n",
              "      <td>53666.09</td>\n",
              "      <td>53796.22</td>\n",
              "      <td>29127.91</td>\n",
              "      <td>1.592266e+09</td>\n",
              "      <td>53949.29</td>\n",
              "    </tr>\n",
              "    <tr>\n",
              "      <th>2021-10-09</th>\n",
              "      <td>55485.20</td>\n",
              "      <td>53696.32</td>\n",
              "      <td>53949.29</td>\n",
              "      <td>14593.95</td>\n",
              "      <td>7.996072e+08</td>\n",
              "      <td>54968.04</td>\n",
              "    </tr>\n",
              "    <tr>\n",
              "      <th>2021-10-10</th>\n",
              "      <td>56473.63</td>\n",
              "      <td>54131.52</td>\n",
              "      <td>54968.04</td>\n",
              "      <td>23094.98</td>\n",
              "      <td>1.276001e+09</td>\n",
              "      <td>54700.24</td>\n",
              "    </tr>\n",
              "    <tr>\n",
              "      <th>2021-10-11</th>\n",
              "      <td>57752.91</td>\n",
              "      <td>54448.68</td>\n",
              "      <td>54700.24</td>\n",
              "      <td>26065.96</td>\n",
              "      <td>1.477093e+09</td>\n",
              "      <td>57475.73</td>\n",
              "    </tr>\n",
              "  </tbody>\n",
              "</table>\n",
              "<p>2001 rows × 6 columns</p>\n",
              "</div>"
            ],
            "text/plain": [
              "                high       low      open  volumefrom      volumeto     close\n",
              "time                                                                        \n",
              "2016-04-20    442.86    432.51    434.92    74361.53  3.265542e+07    441.16\n",
              "2016-04-21    450.80    439.53    441.16    63127.80  2.816877e+07    449.34\n",
              "2016-04-22    450.19    441.90    449.34    49710.33  2.222516e+07    445.28\n",
              "2016-04-23    451.48    443.07    445.28    42358.77  1.899821e+07    450.08\n",
              "2016-04-24    461.78    447.89    450.08    74434.28  3.398427e+07    457.56\n",
              "...              ...       ...       ...         ...           ...       ...\n",
              "2021-10-07  55359.77  53391.93  55343.24    33806.76  1.836530e+09  53797.21\n",
              "2021-10-08  56047.91  53666.09  53796.22    29127.91  1.592266e+09  53949.29\n",
              "2021-10-09  55485.20  53696.32  53949.29    14593.95  7.996072e+08  54968.04\n",
              "2021-10-10  56473.63  54131.52  54968.04    23094.98  1.276001e+09  54700.24\n",
              "2021-10-11  57752.91  54448.68  54700.24    26065.96  1.477093e+09  57475.73\n",
              "\n",
              "[2001 rows x 6 columns]"
            ]
          },
          "metadata": {},
          "execution_count": 5
        }
      ]
    },
    {
      "cell_type": "code",
      "metadata": {
        "id": "jf4HhvGT6Q3U"
      },
      "source": [
        "def line_plot(line1, line2, label1=None, label2=None, title='', lw=2):\n",
        "    fig, ax = plt.subplots(1, figsize=(13, 7))\n",
        "    ax.plot(line1, label=label1, linewidth=lw)\n",
        "    ax.plot(line2, label=label2, linewidth=lw)\n",
        "    ax.set_ylabel('price [CAD]', fontsize=14)\n",
        "    ax.set_title(title, fontsize=16)\n",
        "    ax.legend(loc='best', fontsize=16);"
      ],
      "execution_count": 40,
      "outputs": []
    },
    {
      "cell_type": "code",
      "metadata": {
        "id": "DKwipwXOze1q"
      },
      "source": [
        "def train_test_split(df, test_size=0.2, valid_size=0.4):\n",
        "    split_row = len(df) - int(test_size * len(df))\n",
        "    train_data = df.iloc[:split_row]\n",
        "    test_data = df.iloc[split_row:]\n",
        "    return train_data, test_data"
      ],
      "execution_count": 11,
      "outputs": []
    },
    {
      "cell_type": "code",
      "metadata": {
        "id": "cu2lK2KNz5tJ"
      },
      "source": [
        "train, test = train_test_split(df,test_size=0.4)"
      ],
      "execution_count": 12,
      "outputs": []
    },
    {
      "cell_type": "code",
      "metadata": {
        "colab": {
          "base_uri": "https://localhost:8080/",
          "height": 428
        },
        "id": "0ycjtl_H6UPF",
        "outputId": "ea7a327d-c58f-42cf-b0da-740e78ae5562"
      },
      "source": [
        "line_plot(train[target_col], test[target_col], 'Training', 'Test', title='')"
      ],
      "execution_count": 41,
      "outputs": [
        {
          "output_type": "display_data",
          "data": {
            "image/png": "[encoded data removed]",
            "text/plain": [
              "<Figure size 936x504 with 1 Axes>"
            ]
          },
          "metadata": {
            "needs_background": "light"
          }
        }
      ]
    },
    {
      "cell_type": "code",
      "metadata": {
        "colab": {
          "base_uri": "https://localhost:8080/"
        },
        "id": "u3nh5wG70QLr",
        "outputId": "ba4ad45a-f2e0-45bd-c399-f4a859097aa9"
      },
      "source": [
        "print(train)\n",
        "print(test)\n"
      ],
      "execution_count": 13,
      "outputs": [
        {
          "output_type": "stream",
          "name": "stdout",
          "text": [
            "                high       low      open  volumefrom      volumeto     close\n",
            "time                                                                        \n",
            "2016-04-20    442.86    432.51    434.92    74361.53  3.265542e+07    441.16\n",
            "2016-04-21    450.80    439.53    441.16    63127.80  2.816877e+07    449.34\n",
            "2016-04-22    450.19    441.90    449.34    49710.33  2.222516e+07    445.28\n",
            "2016-04-23    451.48    443.07    445.28    42358.77  1.899821e+07    450.08\n",
            "2016-04-24    461.78    447.89    450.08    74434.28  3.398427e+07    457.56\n",
            "...              ...       ...       ...         ...           ...       ...\n",
            "2019-07-30   9749.53   9391.78   9506.93    28856.19  2.764023e+08   9595.52\n",
            "2019-07-31  10123.94   9581.60   9595.52    42030.01  4.163431e+08  10089.25\n",
            "2019-08-01  10488.81   9890.49  10089.25    43505.11  4.420373e+08  10409.79\n",
            "2019-08-02  10666.64  10340.82  10409.79    44213.09  4.636883e+08  10528.99\n",
            "2019-08-03  10915.00  10509.35  10528.99    34102.93  3.675365e+08  10820.41\n",
            "\n",
            "[1201 rows x 6 columns]\n",
            "                high       low      open  volumefrom      volumeto     close\n",
            "time                                                                        \n",
            "2019-08-04  11074.95  10572.24  10820.41    39795.33  4.316993e+08  10978.91\n",
            "2019-08-05  11945.38  10978.89  10978.91    74748.53  8.709172e+08  11807.96\n",
            "2019-08-06  12316.85  11224.10  11807.96    80694.71  9.495340e+08  11467.10\n",
            "2019-08-07  12138.55  11393.98  11467.10    70893.90  8.347194e+08  11974.28\n",
            "2019-08-08  12042.87  11498.04  11974.28    49871.24  5.884635e+08  11982.80\n",
            "...              ...       ...       ...         ...           ...       ...\n",
            "2021-10-07  55359.77  53391.93  55343.24    33806.76  1.836530e+09  53797.21\n",
            "2021-10-08  56047.91  53666.09  53796.22    29127.91  1.592266e+09  53949.29\n",
            "2021-10-09  55485.20  53696.32  53949.29    14593.95  7.996072e+08  54968.04\n",
            "2021-10-10  56473.63  54131.52  54968.04    23094.98  1.276001e+09  54700.24\n",
            "2021-10-11  57752.91  54448.68  54700.24    26065.96  1.477093e+09  57475.73\n",
            "\n",
            "[800 rows x 6 columns]\n"
          ]
        }
      ]
    },
    {
      "cell_type": "code",
      "metadata": {
        "id": "NK3qzTBF0VWL"
      },
      "source": [
        "def normalise_zero_base(df):\n",
        "    return df / df.iloc[0] - 1\n",
        "\n",
        "def normalise_min_max(df):\n",
        "    return (df - df.min()) / (data.max() - df.min())"
      ],
      "execution_count": 23,
      "outputs": []
    },
    {
      "cell_type": "code",
      "metadata": {
        "id": "2KExHt0pv-GS"
      },
      "source": [
        "def extract_window_data(df, window_len=5, zero_base=True):\n",
        "    window_data = []\n",
        "    for idx in range(len(df) - window_len):\n",
        "        tmp = df[idx: (idx + window_len)].copy()\n",
        "        if zero_base:\n",
        "            tmp = normalise_zero_base(tmp)\n",
        "        window_data.append(tmp.values)\n",
        "    return np.array(window_data)"
      ],
      "execution_count": 24,
      "outputs": []
    },
    {
      "cell_type": "code",
      "metadata": {
        "id": "ITZfQYc82V9C"
      },
      "source": [
        "def prepare_data(df, target_col, window_len=5, zero_base=True, test_size=0.4):\n",
        "    train_data, test_data = train_test_split(df, test_size=test_size)\n",
        "    X_train = extract_window_data(train_data, window_len, zero_base)\n",
        "    X_test = extract_window_data(test_data, window_len, zero_base)\n",
        "    y_train = train_data[target_col][window_len:].values\n",
        "    y_test = test_data[target_col][window_len:].values\n",
        "    if zero_base:\n",
        "        y_train = y_train / train_data[target_col][:-window_len].values - 1\n",
        "        y_test = y_test / test_data[target_col][:-window_len].values - 1\n",
        "\n",
        "    return train_data, test_data, X_train, X_test, y_train, y_test"
      ],
      "execution_count": 25,
      "outputs": []
    },
    {
      "cell_type": "code",
      "metadata": {
        "id": "Bn9Rx3i72t-w"
      },
      "source": [
        "def build_lstm_model(input_data, output_size, neurons=100, activ_func='linear',\n",
        "                     dropout=0.2, loss='mse', optimizer='adam'):\n",
        "    model = Sequential()\n",
        "    model.add(LSTM(neurons, input_shape=(input_data.shape[1], input_data.shape[2])))\n",
        "    model.add(Dropout(dropout))\n",
        "    model.add(Dense(units=output_size))\n",
        "    model.add(Activation(activ_func))\n",
        "\n",
        "    model.compile(loss=loss, optimizer=optimizer)\n",
        "    return model"
      ],
      "execution_count": 43,
      "outputs": []
    },
    {
      "cell_type": "code",
      "metadata": {
        "id": "6Ce9sF0X3dA1"
      },
      "source": [
        "np.random.seed(42)\n",
        "window_len = 5\n",
        "test_size = 0.4\n",
        "zero_base = True\n",
        "lstm_neurons = 100\n",
        "epochs = 40\n",
        "batch_size = 32\n",
        "loss = 'mse'\n",
        "dropout = 0.2\n",
        "optimizer = 'adam'"
      ],
      "execution_count": 65,
      "outputs": []
    },
    {
      "cell_type": "code",
      "metadata": {
        "id": "cVFmDvSm3wJn"
      },
      "source": [
        "train, test, X_train, X_test, y_train, y_test = prepare_data(df, target_col, window_len=window_len, zero_base=zero_base, test_size=test_size)"
      ],
      "execution_count": 66,
      "outputs": []
    },
    {
      "cell_type": "code",
      "metadata": {
        "id": "dAnhifbT5P8l"
      },
      "source": [
        "#Early stopping using callbacks\n",
        "from keras.callbacks import EarlyStopping\n",
        "es = EarlyStopping(mode='min',verbose=1,patience=4) "
      ],
      "execution_count": 67,
      "outputs": []
    },
    {
      "cell_type": "code",
      "metadata": {
        "colab": {
          "base_uri": "https://localhost:8080/"
        },
        "id": "_P5YxI1P31eG",
        "outputId": "a5bac0ef-c51a-4a70-8ec3-1645ae457998"
      },
      "source": [
        "model = build_lstm_model( X_train, output_size=1, neurons=lstm_neurons, dropout=dropout, loss=loss, optimizer=optimizer)\n",
        "history = model.fit( X_train, y_train, epochs=epochs, batch_size=batch_size, validation_split=0.3, validation_data=(X_test,y_test), verbose=1, shuffle=True, callbacks=[es])"
      ],
      "execution_count": 68,
      "outputs": [
        {
          "output_type": "stream",
          "name": "stdout",
          "text": [
            "Epoch 1/40\n",
            "27/27 [==============================] - 3s 24ms/step - loss: 0.0094 - val_loss: 0.0039\n",
            "Epoch 2/40\n",
            "27/27 [==============================] - 0s 9ms/step - loss: 0.0054 - val_loss: 0.0028\n",
            "Epoch 3/40\n",
            "27/27 [==============================] - 0s 8ms/step - loss: 0.0045 - val_loss: 0.0025\n",
            "Epoch 4/40\n",
            "27/27 [==============================] - 0s 10ms/step - loss: 0.0044 - val_loss: 0.0024\n",
            "Epoch 5/40\n",
            "27/27 [==============================] - 0s 8ms/step - loss: 0.0037 - val_loss: 0.0021\n",
            "Epoch 6/40\n",
            "27/27 [==============================] - 0s 8ms/step - loss: 0.0036 - val_loss: 0.0020\n",
            "Epoch 7/40\n",
            "27/27 [==============================] - 0s 7ms/step - loss: 0.0035 - val_loss: 0.0019\n",
            "Epoch 8/40\n",
            "27/27 [==============================] - 0s 8ms/step - loss: 0.0030 - val_loss: 0.0019\n",
            "Epoch 9/40\n",
            "27/27 [==============================] - 0s 9ms/step - loss: 0.0029 - val_loss: 0.0019\n",
            "Epoch 10/40\n",
            "27/27 [==============================] - 0s 8ms/step - loss: 0.0027 - val_loss: 0.0022\n",
            "Epoch 11/40\n",
            "27/27 [==============================] - 0s 8ms/step - loss: 0.0029 - val_loss: 0.0019\n",
            "Epoch 12/40\n",
            "27/27 [==============================] - 0s 8ms/step - loss: 0.0027 - val_loss: 0.0018\n",
            "Epoch 13/40\n",
            "27/27 [==============================] - 0s 8ms/step - loss: 0.0026 - val_loss: 0.0019\n",
            "Epoch 14/40\n",
            "27/27 [==============================] - 0s 8ms/step - loss: 0.0026 - val_loss: 0.0018\n",
            "Epoch 15/40\n",
            "27/27 [==============================] - 0s 10ms/step - loss: 0.0028 - val_loss: 0.0017\n",
            "Epoch 16/40\n",
            "27/27 [==============================] - 0s 9ms/step - loss: 0.0025 - val_loss: 0.0021\n",
            "Epoch 17/40\n",
            "27/27 [==============================] - 0s 8ms/step - loss: 0.0024 - val_loss: 0.0017\n",
            "Epoch 18/40\n",
            "27/27 [==============================] - 0s 8ms/step - loss: 0.0025 - val_loss: 0.0017\n",
            "Epoch 19/40\n",
            "27/27 [==============================] - 0s 8ms/step - loss: 0.0024 - val_loss: 0.0018\n",
            "Epoch 20/40\n",
            "27/27 [==============================] - 0s 8ms/step - loss: 0.0024 - val_loss: 0.0017\n",
            "Epoch 21/40\n",
            "27/27 [==============================] - 0s 9ms/step - loss: 0.0023 - val_loss: 0.0017\n",
            "Epoch 22/40\n",
            "27/27 [==============================] - 0s 8ms/step - loss: 0.0023 - val_loss: 0.0017\n",
            "Epoch 23/40\n",
            "27/27 [==============================] - 0s 8ms/step - loss: 0.0022 - val_loss: 0.0017\n",
            "Epoch 24/40\n",
            "27/27 [==============================] - 0s 8ms/step - loss: 0.0022 - val_loss: 0.0017\n",
            "Epoch 25/40\n",
            "27/27 [==============================] - 0s 8ms/step - loss: 0.0023 - val_loss: 0.0017\n",
            "Epoch 26/40\n",
            "27/27 [==============================] - 0s 8ms/step - loss: 0.0023 - val_loss: 0.0018\n",
            "Epoch 27/40\n",
            "27/27 [==============================] - 0s 8ms/step - loss: 0.0022 - val_loss: 0.0018\n",
            "Epoch 28/40\n",
            "27/27 [==============================] - 0s 8ms/step - loss: 0.0023 - val_loss: 0.0017\n",
            "Epoch 29/40\n",
            "27/27 [==============================] - 0s 9ms/step - loss: 0.0023 - val_loss: 0.0016\n",
            "Epoch 30/40\n",
            "27/27 [==============================] - 0s 8ms/step - loss: 0.0023 - val_loss: 0.0017\n",
            "Epoch 31/40\n",
            "27/27 [==============================] - 0s 8ms/step - loss: 0.0023 - val_loss: 0.0016\n",
            "Epoch 32/40\n",
            "27/27 [==============================] - 0s 7ms/step - loss: 0.0022 - val_loss: 0.0016\n",
            "Epoch 33/40\n",
            "27/27 [==============================] - 0s 8ms/step - loss: 0.0022 - val_loss: 0.0016\n",
            "Epoch 34/40\n",
            "27/27 [==============================] - 0s 8ms/step - loss: 0.0022 - val_loss: 0.0016\n",
            "Epoch 35/40\n",
            "27/27 [==============================] - 0s 9ms/step - loss: 0.0021 - val_loss: 0.0016\n",
            "Epoch 36/40\n",
            "27/27 [==============================] - 0s 8ms/step - loss: 0.0021 - val_loss: 0.0017\n",
            "Epoch 37/40\n",
            "27/27 [==============================] - 0s 8ms/step - loss: 0.0021 - val_loss: 0.0017\n",
            "Epoch 00037: early stopping\n"
          ]
        }
      ]
    },
    {
      "cell_type": "code",
      "metadata": {
        "colab": {
          "base_uri": "https://localhost:8080/",
          "height": 282
        },
        "id": "d3CKz5UB5Ccb",
        "outputId": "62328737-3305-4aa0-e61f-205e2a670339"
      },
      "source": [
        "plt.plot(history.history['loss'])\n",
        "plt.plot(history.history['val_loss'])"
      ],
      "execution_count": 69,
      "outputs": [
        {
          "output_type": "execute_result",
          "data": {
            "text/plain": [
              "[<matplotlib.lines.Line2D at 0x7f0eee7d3cd0>]"
            ]
          },
          "metadata": {},
          "execution_count": 69
        },
        {
          "output_type": "display_data",
          "data": {
            "image/png": "[encoded data removed]",
            "text/plain": [
              "<Figure size 432x288 with 1 Axes>"
            ]
          },
          "metadata": {
            "needs_background": "light"
          }
        }
      ]
    },
    {
      "cell_type": "code",
      "metadata": {
        "colab": {
          "base_uri": "https://localhost:8080/"
        },
        "id": "lku3bhaM5Jyv",
        "outputId": "a19308d3-a5bb-47ca-b25c-43329cb51e9d"
      },
      "source": [
        "targets = test[target_col][window_len:]\n",
        "preds = model.predict(X_test).squeeze()\n",
        "mean_absolute_error(preds, y_test)"
      ],
      "execution_count": 70,
      "outputs": [
        {
          "output_type": "execute_result",
          "data": {
            "text/plain": [
              "0.02887084803637267"
            ]
          },
          "metadata": {},
          "execution_count": 70
        }
      ]
    },
    {
      "cell_type": "code",
      "metadata": {
        "colab": {
          "base_uri": "https://localhost:8080/",
          "height": 428
        },
        "id": "SEZ3trvm6GJL",
        "outputId": "2d673c2c-f1b5-41a8-e17e-390fbe0a6884"
      },
      "source": [
        "preds = test[target_col].values[:-window_len] * (preds + 1)\n",
        "preds = pd.Series(index=targets.index, data=preds)\n",
        "line_plot(targets, preds, 'actual', 'prediction', lw=3)"
      ],
      "execution_count": 71,
      "outputs": [
        {
          "output_type": "display_data",
          "data": {
            "image/png": "[encoded data removed]",
            "text/plain": [
              "<Figure size 936x504 with 1 Axes>"
            ]
          },
          "metadata": {
            "needs_background": "light"
          }
        }
      ]
    },
    {
      "cell_type": "code",
      "metadata": {
        "id": "GyTtIjyT6KMd"
      },
      "source": [
        ""
      ],
      "execution_count": null,
      "outputs": []
    }
  ]
}